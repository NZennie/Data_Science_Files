{
  "metadata": {
    "kernelspec": {
      "name": "python",
      "display_name": "Python (Pyodide)",
      "language": "python"
    },
    "language_info": {
      "codemirror_mode": {
        "name": "python",
        "version": 3
      },
      "file_extension": ".py",
      "mimetype": "text/x-python",
      "name": "python",
      "nbconvert_exporter": "python",
      "pygments_lexer": "ipython3",
      "version": "3.8"
    },
    "prev_pub_hash": "0f9db842b41c859223722809f8be602f5df9334348bd206b11e3af58c30eb345"
  },
  "nbformat_minor": 4,
  "nbformat": 4,
  "cells": [
    {
      "cell_type": "markdown",
      "source": "<p style=\"text-align:center\">\n    <a href=\"https://skills.network/?utm_medium=Exinfluencer&utm_source=Exinfluencer&utm_content=000026UJ&utm_term=10006555&utm_id=NA-SkillsNetwork-Channel-SkillsNetworkCoursesIBMDS0321ENSkillsNetwork26802033-2022-01-01\" target=\"_blank\">\n    <img src=\"https://cf-courses-data.s3.us.cloud-object-storage.appdomain.cloud/assets/logos/SN_web_lightmode.png\" width=\"200\" alt=\"Skills Network Logo\">\n    </a>\n</p>\n",
      "metadata": {}
    },
    {
      "cell_type": "markdown",
      "source": "# **Hands-on Lab: Interactive Visual Analytics with Folium**\n",
      "metadata": {}
    },
    {
      "cell_type": "markdown",
      "source": "Estimated time needed: **40** minutes\n",
      "metadata": {}
    },
    {
      "cell_type": "markdown",
      "source": "The launch success rate may depend on many factors such as payload mass, orbit type, and so on. It may also depend on the location and proximities of a launch site, i.e., the initial position of rocket trajectories. Finding an optimal location for building a launch site certainly involves many factors and hopefully we could discover some of the factors by analyzing the existing launch site locations.\n",
      "metadata": {}
    },
    {
      "cell_type": "markdown",
      "source": "In the previous exploratory data analysis labs, you have visualized the SpaceX launch dataset using `matplotlib` and `seaborn` and discovered some preliminary correlations between the launch site and success rates. In this lab, you will be performing more interactive visual analytics using `Folium`.\n",
      "metadata": {}
    },
    {
      "cell_type": "markdown",
      "source": "## Objectives\n",
      "metadata": {}
    },
    {
      "cell_type": "markdown",
      "source": "This lab contains the following tasks:\n\n*   **TASK 1:** Mark all launch sites on a map\n*   **TASK 2:** Mark the success/failed launches for each site on the map\n*   **TASK 3:** Calculate the distances between a launch site to its proximities\n\nAfter completed the above tasks, you should be able to find some geographical patterns about launch sites.\n",
      "metadata": {}
    },
    {
      "cell_type": "markdown",
      "source": "Let's first import required Python packages for this lab:\n",
      "metadata": {}
    },
    {
      "cell_type": "code",
      "source": "import piplite\nawait piplite.install(['folium'])\nawait piplite.install(['pandas'])",
      "metadata": {
        "trusted": true
      },
      "outputs": [],
      "execution_count": 3
    },
    {
      "cell_type": "code",
      "source": "import folium\nimport pandas as pd",
      "metadata": {
        "trusted": true
      },
      "outputs": [],
      "execution_count": 4
    },
    {
      "cell_type": "code",
      "source": "# Import folium MarkerCluster plugin\nfrom folium.plugins import MarkerCluster\n# Import folium MousePosition plugin\nfrom folium.plugins import MousePosition\n# Import folium DivIcon plugin\nfrom folium.features import DivIcon",
      "metadata": {
        "trusted": true
      },
      "outputs": [],
      "execution_count": 5
    },
    {
      "cell_type": "markdown",
      "source": "If you need to refresh your memory about folium, you may download and refer to this previous folium lab:\n",
      "metadata": {}
    },
    {
      "cell_type": "markdown",
      "source": "[Generating Maps with Python](https://cf-courses-data.s3.us.cloud-object-storage.appdomain.cloud/IBMDeveloperSkillsNetwork-DV0101EN-SkillsNetwork/labs/v4/DV0101EN-Exercise-Generating-Maps-in-Python.ipynb)\n",
      "metadata": {}
    },
    {
      "cell_type": "code",
      "source": "center_coords = [38.7946, -106.5348]\n\nmymap = folium.Map(location=center_coords, zoom_start=4)\n\nfolium.Marker(location=[40.7128, -74.0060], popup=\"New York City\").add_to(mymap)\n\nmymap",
      "metadata": {
        "trusted": true
      },
      "outputs": [
        {
          "execution_count": 29,
          "output_type": "execute_result",
          "data": {
            "text/plain": "<folium.folium.Map at 0x5faec28>",
            "text/html": "<div style=\"width:100%;\"><div style=\"position:relative;width:100%;height:0;padding-bottom:60%;\"><span style=\"color:#565656\">Make this Notebook Trusted to load map: File -> Trust Notebook</span><iframe srcdoc=\"&lt;!DOCTYPE html&gt;\n&lt;html&gt;\n&lt;head&gt;\n    \n    &lt;meta http-equiv=&quot;content-type&quot; content=&quot;text/html; charset=UTF-8&quot; /&gt;\n    \n        &lt;script&gt;\n            L_NO_TOUCH = false;\n            L_DISABLE_3D = false;\n        &lt;/script&gt;\n    \n    &lt;style&gt;html, body {width: 100%;height: 100%;margin: 0;padding: 0;}&lt;/style&gt;\n    &lt;style&gt;#map {position:absolute;top:0;bottom:0;right:0;left:0;}&lt;/style&gt;\n    &lt;script src=&quot;https://cdn.jsdelivr.net/npm/leaflet@1.9.3/dist/leaflet.js&quot;&gt;&lt;/script&gt;\n    &lt;script src=&quot;https://code.jquery.com/jquery-3.7.1.min.js&quot;&gt;&lt;/script&gt;\n    &lt;script src=&quot;https://cdn.jsdelivr.net/npm/bootstrap@5.2.2/dist/js/bootstrap.bundle.min.js&quot;&gt;&lt;/script&gt;\n    &lt;script src=&quot;https://cdnjs.cloudflare.com/ajax/libs/Leaflet.awesome-markers/2.0.2/leaflet.awesome-markers.js&quot;&gt;&lt;/script&gt;\n    &lt;link rel=&quot;stylesheet&quot; href=&quot;https://cdn.jsdelivr.net/npm/leaflet@1.9.3/dist/leaflet.css&quot;/&gt;\n    &lt;link rel=&quot;stylesheet&quot; href=&quot;https://cdn.jsdelivr.net/npm/bootstrap@5.2.2/dist/css/bootstrap.min.css&quot;/&gt;\n    &lt;link rel=&quot;stylesheet&quot; href=&quot;https://netdna.bootstrapcdn.com/bootstrap/3.0.0/css/bootstrap-glyphicons.css&quot;/&gt;\n    &lt;link rel=&quot;stylesheet&quot; href=&quot;https://cdn.jsdelivr.net/npm/@fortawesome/fontawesome-free@6.2.0/css/all.min.css&quot;/&gt;\n    &lt;link rel=&quot;stylesheet&quot; href=&quot;https://cdnjs.cloudflare.com/ajax/libs/Leaflet.awesome-markers/2.0.2/leaflet.awesome-markers.css&quot;/&gt;\n    &lt;link rel=&quot;stylesheet&quot; href=&quot;https://cdn.jsdelivr.net/gh/python-visualization/folium/folium/templates/leaflet.awesome.rotate.min.css&quot;/&gt;\n    \n            &lt;meta name=&quot;viewport&quot; content=&quot;width=device-width,\n                initial-scale=1.0, maximum-scale=1.0, user-scalable=no&quot; /&gt;\n            &lt;style&gt;\n                #map_ba21d3a7f48a5954f1f3034a376c5c32 {\n                    position: relative;\n                    width: 100.0%;\n                    height: 100.0%;\n                    left: 0.0%;\n                    top: 0.0%;\n                }\n                .leaflet-container { font-size: 1rem; }\n            &lt;/style&gt;\n        \n&lt;/head&gt;\n&lt;body&gt;\n    \n    \n            &lt;div class=&quot;folium-map&quot; id=&quot;map_ba21d3a7f48a5954f1f3034a376c5c32&quot; &gt;&lt;/div&gt;\n        \n&lt;/body&gt;\n&lt;script&gt;\n    \n    \n            var map_ba21d3a7f48a5954f1f3034a376c5c32 = L.map(\n                &quot;map_ba21d3a7f48a5954f1f3034a376c5c32&quot;,\n                {\n                    center: [38.7946, -106.5348],\n                    crs: L.CRS.EPSG3857,\n                    ...{\n  &quot;zoom&quot;: 4,\n  &quot;zoomControl&quot;: true,\n  &quot;preferCanvas&quot;: false,\n}\n\n                }\n            );\n\n            \n\n        \n    \n            var tile_layer_5ae2226f886f58e55b13554c984d8157 = L.tileLayer(\n                &quot;https://tile.openstreetmap.org/{z}/{x}/{y}.png&quot;,\n                {\n  &quot;minZoom&quot;: 0,\n  &quot;maxZoom&quot;: 19,\n  &quot;maxNativeZoom&quot;: 19,\n  &quot;noWrap&quot;: false,\n  &quot;attribution&quot;: &quot;\\u0026copy; \\u003ca href=\\&quot;https://www.openstreetmap.org/copyright\\&quot;\\u003eOpenStreetMap\\u003c/a\\u003e contributors&quot;,\n  &quot;subdomains&quot;: &quot;abc&quot;,\n  &quot;detectRetina&quot;: false,\n  &quot;tms&quot;: false,\n  &quot;opacity&quot;: 1,\n}\n\n            );\n        \n    \n            tile_layer_5ae2226f886f58e55b13554c984d8157.addTo(map_ba21d3a7f48a5954f1f3034a376c5c32);\n        \n    \n            var marker_31777b4bd92e0e379562c2a80bfe5d08 = L.marker(\n                [40.7128, -74.006],\n                {\n}\n            ).addTo(map_ba21d3a7f48a5954f1f3034a376c5c32);\n        \n    \n        var popup_10a95f1009ff9de7994f96ffe5c37168 = L.popup({\n  &quot;maxWidth&quot;: &quot;100%&quot;,\n});\n\n        \n            \n                var html_5b9a55d7f352ed3cfeea3bf7d9728e8f = $(`&lt;div id=&quot;html_5b9a55d7f352ed3cfeea3bf7d9728e8f&quot; style=&quot;width: 100.0%; height: 100.0%;&quot;&gt;New York City&lt;/div&gt;`)[0];\n                popup_10a95f1009ff9de7994f96ffe5c37168.setContent(html_5b9a55d7f352ed3cfeea3bf7d9728e8f);\n            \n        \n\n        marker_31777b4bd92e0e379562c2a80bfe5d08.bindPopup(popup_10a95f1009ff9de7994f96ffe5c37168)\n        ;\n\n        \n    \n&lt;/script&gt;\n&lt;/html&gt;\" style=\"position:absolute;width:100%;height:100%;left:0;top:0;border:none !important;\" allowfullscreen webkitallowfullscreen mozallowfullscreen></iframe></div></div>"
          },
          "metadata": {}
        }
      ],
      "execution_count": 29
    },
    {
      "cell_type": "markdown",
      "source": "First, let's try to add each site's location on a map using site's latitude and longitude coordinates\n",
      "metadata": {}
    },
    {
      "cell_type": "markdown",
      "source": "The following dataset with the name `spacex_launch_geo.csv` is an augmented dataset with latitude and longitude added for each site.\n",
      "metadata": {}
    },
    {
      "cell_type": "code",
      "source": "# Download and read the `spacex_launch_geo.csv`\nfrom js import fetch\nimport io\n\nURL = 'https://cf-courses-data.s3.us.cloud-object-storage.appdomain.cloud/IBM-DS0321EN-SkillsNetwork/datasets/spacex_launch_geo.csv'\nresp = await fetch(URL)\nspacex_csv_file = io.BytesIO((await resp.arrayBuffer()).to_py())\nspacex_df=pd.read_csv(spacex_csv_file)",
      "metadata": {
        "trusted": true
      },
      "outputs": [],
      "execution_count": 59
    },
    {
      "cell_type": "markdown",
      "source": "Now, you can take a look at what are the coordinates for each site.\n",
      "metadata": {}
    },
    {
      "cell_type": "code",
      "source": "# Select relevant sub-columns: `Launch Site`, `Lat(Latitude)`, `Long(Longitude)`, `class`\nspacex_df = spacex_df[['Launch Site', 'Lat', 'Long', 'class']]\nlaunch_sites_df = spacex_df.groupby(['Launch Site'], as_index=False).first()\nlaunch_sites_df = launch_sites_df[['Launch Site', 'Lat', 'Long']]\nlaunch_sites_df",
      "metadata": {
        "trusted": true
      },
      "outputs": [
        {
          "execution_count": 8,
          "output_type": "execute_result",
          "data": {
            "text/plain": "    Launch Site        Lat        Long\n0   CCAFS LC-40  28.562302  -80.577356\n1  CCAFS SLC-40  28.563197  -80.576820\n2    KSC LC-39A  28.573255  -80.646895\n3   VAFB SLC-4E  34.632834 -120.610745",
            "text/html": "<div>\n<style scoped>\n    .dataframe tbody tr th:only-of-type {\n        vertical-align: middle;\n    }\n\n    .dataframe tbody tr th {\n        vertical-align: top;\n    }\n\n    .dataframe thead th {\n        text-align: right;\n    }\n</style>\n<table border=\"1\" class=\"dataframe\">\n  <thead>\n    <tr style=\"text-align: right;\">\n      <th></th>\n      <th>Launch Site</th>\n      <th>Lat</th>\n      <th>Long</th>\n    </tr>\n  </thead>\n  <tbody>\n    <tr>\n      <th>0</th>\n      <td>CCAFS LC-40</td>\n      <td>28.562302</td>\n      <td>-80.577356</td>\n    </tr>\n    <tr>\n      <th>1</th>\n      <td>CCAFS SLC-40</td>\n      <td>28.563197</td>\n      <td>-80.576820</td>\n    </tr>\n    <tr>\n      <th>2</th>\n      <td>KSC LC-39A</td>\n      <td>28.573255</td>\n      <td>-80.646895</td>\n    </tr>\n    <tr>\n      <th>3</th>\n      <td>VAFB SLC-4E</td>\n      <td>34.632834</td>\n      <td>-120.610745</td>\n    </tr>\n  </tbody>\n</table>\n</div>"
          },
          "metadata": {}
        }
      ],
      "execution_count": 8
    },
    {
      "cell_type": "markdown",
      "source": "Above coordinates are just plain numbers that can not give you any intuitive insights about where are those launch sites. If you are very good at geography, you can interpret those numbers directly in your mind. If not, that's fine too. Let's visualize those locations by pinning them on a map.\n",
      "metadata": {}
    },
    {
      "cell_type": "markdown",
      "source": "We first need to create a folium `Map` object, with an initial center location to be NASA Johnson Space Center at Houston, Texas.\n",
      "metadata": {}
    },
    {
      "cell_type": "code",
      "source": "# Start location is NASA Johnson Space Center\nnasa_coordinate = [29.559684888503615, -95.0830971930759]\nsite_map = folium.Map(location=nasa_coordinate, zoom_start=10)",
      "metadata": {
        "trusted": true
      },
      "outputs": [],
      "execution_count": 30
    },
    {
      "cell_type": "markdown",
      "source": "We could use `folium.Circle` to add a highlighted circle area with a text label on a specific coordinate. For example,\n",
      "metadata": {}
    },
    {
      "cell_type": "code",
      "source": "# Create a blue circle at NASA Johnson Space Center's coordinate with a popup label showing its name\ncircle = folium.Circle(nasa_coordinate, radius=1000, color='#d35400', fill=True).add_child(folium.Popup('NASA Johnson Space Center'))\n# Create a blue circle at NASA Johnson Space Center's coordinate with a icon showing its name\nmarker = folium.map.Marker(\n    nasa_coordinate,\n    # Create an icon as a text label\n    icon=DivIcon(\n        icon_size=(20,20),\n        icon_anchor=(0,0),\n        html='<div style=\"font-size: 12; color:#d35400;\"><b>%s</b></div>' % 'NASA JSC',\n        )\n    )\nsite_map.add_child(circle)\nsite_map.add_child(marker)",
      "metadata": {
        "trusted": true
      },
      "outputs": [
        {
          "execution_count": 31,
          "output_type": "execute_result",
          "data": {
            "text/plain": "<folium.folium.Map at 0x3c8f388>",
            "text/html": "<div style=\"width:100%;\"><div style=\"position:relative;width:100%;height:0;padding-bottom:60%;\"><span style=\"color:#565656\">Make this Notebook Trusted to load map: File -> Trust Notebook</span><iframe srcdoc=\"&lt;!DOCTYPE html&gt;\n&lt;html&gt;\n&lt;head&gt;\n    \n    &lt;meta http-equiv=&quot;content-type&quot; content=&quot;text/html; charset=UTF-8&quot; /&gt;\n    \n        &lt;script&gt;\n            L_NO_TOUCH = false;\n            L_DISABLE_3D = false;\n        &lt;/script&gt;\n    \n    &lt;style&gt;html, body {width: 100%;height: 100%;margin: 0;padding: 0;}&lt;/style&gt;\n    &lt;style&gt;#map {position:absolute;top:0;bottom:0;right:0;left:0;}&lt;/style&gt;\n    &lt;script src=&quot;https://cdn.jsdelivr.net/npm/leaflet@1.9.3/dist/leaflet.js&quot;&gt;&lt;/script&gt;\n    &lt;script src=&quot;https://code.jquery.com/jquery-3.7.1.min.js&quot;&gt;&lt;/script&gt;\n    &lt;script src=&quot;https://cdn.jsdelivr.net/npm/bootstrap@5.2.2/dist/js/bootstrap.bundle.min.js&quot;&gt;&lt;/script&gt;\n    &lt;script src=&quot;https://cdnjs.cloudflare.com/ajax/libs/Leaflet.awesome-markers/2.0.2/leaflet.awesome-markers.js&quot;&gt;&lt;/script&gt;\n    &lt;link rel=&quot;stylesheet&quot; href=&quot;https://cdn.jsdelivr.net/npm/leaflet@1.9.3/dist/leaflet.css&quot;/&gt;\n    &lt;link rel=&quot;stylesheet&quot; href=&quot;https://cdn.jsdelivr.net/npm/bootstrap@5.2.2/dist/css/bootstrap.min.css&quot;/&gt;\n    &lt;link rel=&quot;stylesheet&quot; href=&quot;https://netdna.bootstrapcdn.com/bootstrap/3.0.0/css/bootstrap-glyphicons.css&quot;/&gt;\n    &lt;link rel=&quot;stylesheet&quot; href=&quot;https://cdn.jsdelivr.net/npm/@fortawesome/fontawesome-free@6.2.0/css/all.min.css&quot;/&gt;\n    &lt;link rel=&quot;stylesheet&quot; href=&quot;https://cdnjs.cloudflare.com/ajax/libs/Leaflet.awesome-markers/2.0.2/leaflet.awesome-markers.css&quot;/&gt;\n    &lt;link rel=&quot;stylesheet&quot; href=&quot;https://cdn.jsdelivr.net/gh/python-visualization/folium/folium/templates/leaflet.awesome.rotate.min.css&quot;/&gt;\n    \n            &lt;meta name=&quot;viewport&quot; content=&quot;width=device-width,\n                initial-scale=1.0, maximum-scale=1.0, user-scalable=no&quot; /&gt;\n            &lt;style&gt;\n                #map_2b88c833d8b668f843acd32c470552ac {\n                    position: relative;\n                    width: 100.0%;\n                    height: 100.0%;\n                    left: 0.0%;\n                    top: 0.0%;\n                }\n                .leaflet-container { font-size: 1rem; }\n            &lt;/style&gt;\n        \n&lt;/head&gt;\n&lt;body&gt;\n    \n    \n            &lt;div class=&quot;folium-map&quot; id=&quot;map_2b88c833d8b668f843acd32c470552ac&quot; &gt;&lt;/div&gt;\n        \n&lt;/body&gt;\n&lt;script&gt;\n    \n    \n            var map_2b88c833d8b668f843acd32c470552ac = L.map(\n                &quot;map_2b88c833d8b668f843acd32c470552ac&quot;,\n                {\n                    center: [29.559684888503615, -95.0830971930759],\n                    crs: L.CRS.EPSG3857,\n                    ...{\n  &quot;zoom&quot;: 10,\n  &quot;zoomControl&quot;: true,\n  &quot;preferCanvas&quot;: false,\n}\n\n                }\n            );\n\n            \n\n        \n    \n            var tile_layer_6c70ca54189b8f5b3f7143f31a33ea51 = L.tileLayer(\n                &quot;https://tile.openstreetmap.org/{z}/{x}/{y}.png&quot;,\n                {\n  &quot;minZoom&quot;: 0,\n  &quot;maxZoom&quot;: 19,\n  &quot;maxNativeZoom&quot;: 19,\n  &quot;noWrap&quot;: false,\n  &quot;attribution&quot;: &quot;\\u0026copy; \\u003ca href=\\&quot;https://www.openstreetmap.org/copyright\\&quot;\\u003eOpenStreetMap\\u003c/a\\u003e contributors&quot;,\n  &quot;subdomains&quot;: &quot;abc&quot;,\n  &quot;detectRetina&quot;: false,\n  &quot;tms&quot;: false,\n  &quot;opacity&quot;: 1,\n}\n\n            );\n        \n    \n            tile_layer_6c70ca54189b8f5b3f7143f31a33ea51.addTo(map_2b88c833d8b668f843acd32c470552ac);\n        \n    \n            var circle_daacaf5834613499a545b19c279a6149 = L.circle(\n                [29.559684888503615, -95.0830971930759],\n                {&quot;bubblingMouseEvents&quot;: true, &quot;color&quot;: &quot;#d35400&quot;, &quot;dashArray&quot;: null, &quot;dashOffset&quot;: null, &quot;fill&quot;: true, &quot;fillColor&quot;: &quot;#d35400&quot;, &quot;fillOpacity&quot;: 0.2, &quot;fillRule&quot;: &quot;evenodd&quot;, &quot;lineCap&quot;: &quot;round&quot;, &quot;lineJoin&quot;: &quot;round&quot;, &quot;opacity&quot;: 1.0, &quot;radius&quot;: 1000, &quot;stroke&quot;: true, &quot;weight&quot;: 3}\n            ).addTo(map_2b88c833d8b668f843acd32c470552ac);\n        \n    \n        var popup_36a38e8df00b7ff69fd0561caf99b54a = L.popup({\n  &quot;maxWidth&quot;: &quot;100%&quot;,\n});\n\n        \n            \n                var html_a70c76c5235dabff3a2166cf78edb631 = $(`&lt;div id=&quot;html_a70c76c5235dabff3a2166cf78edb631&quot; style=&quot;width: 100.0%; height: 100.0%;&quot;&gt;NASA Johnson Space Center&lt;/div&gt;`)[0];\n                popup_36a38e8df00b7ff69fd0561caf99b54a.setContent(html_a70c76c5235dabff3a2166cf78edb631);\n            \n        \n\n        circle_daacaf5834613499a545b19c279a6149.bindPopup(popup_36a38e8df00b7ff69fd0561caf99b54a)\n        ;\n\n        \n    \n    \n            var marker_777e931194ebd22cc0d7a774e27bacdc = L.marker(\n                [29.559684888503615, -95.0830971930759],\n                {\n}\n            ).addTo(map_2b88c833d8b668f843acd32c470552ac);\n        \n    \n            var div_icon_468d8695a06e2d45172213fb492c6ff2 = L.divIcon({\n  &quot;html&quot;: &quot;\\u003cdiv style=\\&quot;font-size: 12; color:#d35400;\\&quot;\\u003e\\u003cb\\u003eNASA JSC\\u003c/b\\u003e\\u003c/div\\u003e&quot;,\n  &quot;iconSize&quot;: [20, 20],\n  &quot;iconAnchor&quot;: [0, 0],\n  &quot;className&quot;: &quot;empty&quot;,\n});\n            marker_777e931194ebd22cc0d7a774e27bacdc.setIcon(div_icon_468d8695a06e2d45172213fb492c6ff2);\n        \n    \n                marker_777e931194ebd22cc0d7a774e27bacdc.setIcon(div_icon_468d8695a06e2d45172213fb492c6ff2);\n            \n&lt;/script&gt;\n&lt;/html&gt;\" style=\"position:absolute;width:100%;height:100%;left:0;top:0;border:none !important;\" allowfullscreen webkitallowfullscreen mozallowfullscreen></iframe></div></div>"
          },
          "metadata": {}
        }
      ],
      "execution_count": 31
    },
    {
      "cell_type": "markdown",
      "source": "and you should find a small yellow circle near the city of Houston and you can zoom-in to see a larger circle.\n",
      "metadata": {}
    },
    {
      "cell_type": "markdown",
      "source": "Now, let's add a circle for each launch site in data frame `launch_sites`\n",
      "metadata": {}
    },
    {
      "cell_type": "markdown",
      "source": "*TODO:*  Create and add `folium.Circle` and `folium.Marker` for each launch site on the site map\n",
      "metadata": {}
    },
    {
      "cell_type": "markdown",
      "source": "An example of folium.Circle:\n",
      "metadata": {}
    },
    {
      "cell_type": "markdown",
      "source": "`folium.Circle(coordinate, radius=1000, color='#000000', fill=True).add_child(folium.Popup(...))`\n",
      "metadata": {}
    },
    {
      "cell_type": "markdown",
      "source": "An example of folium.Marker:\n",
      "metadata": {}
    },
    {
      "cell_type": "markdown",
      "source": "`folium.map.Marker(coordinate, icon=DivIcon(icon_size=(20,20),icon_anchor=(0,0), html='<div style=\"font-size: 12; color:#d35400;\"><b>%s</b></div>' % 'label', ))`\n",
      "metadata": {}
    },
    {
      "cell_type": "code",
      "source": "site_map = folium.Map(location=nasa_coordinate, zoom_start=5)\n\nfor _, row in launch_sites_df.iterrows():\n    folium.Marker([row['Lat'], row['Long']], popup=row['Launch Site']).add_to(site_map)\n\nsite_map",
      "metadata": {
        "trusted": true
      },
      "outputs": [
        {
          "execution_count": 43,
          "output_type": "execute_result",
          "data": {
            "text/plain": "<folium.folium.Map at 0x61a56d8>",
            "text/html": "<div style=\"width:100%;\"><div style=\"position:relative;width:100%;height:0;padding-bottom:60%;\"><span style=\"color:#565656\">Make this Notebook Trusted to load map: File -> Trust Notebook</span><iframe srcdoc=\"&lt;!DOCTYPE html&gt;\n&lt;html&gt;\n&lt;head&gt;\n    \n    &lt;meta http-equiv=&quot;content-type&quot; content=&quot;text/html; charset=UTF-8&quot; /&gt;\n    \n        &lt;script&gt;\n            L_NO_TOUCH = false;\n            L_DISABLE_3D = false;\n        &lt;/script&gt;\n    \n    &lt;style&gt;html, body {width: 100%;height: 100%;margin: 0;padding: 0;}&lt;/style&gt;\n    &lt;style&gt;#map {position:absolute;top:0;bottom:0;right:0;left:0;}&lt;/style&gt;\n    &lt;script src=&quot;https://cdn.jsdelivr.net/npm/leaflet@1.9.3/dist/leaflet.js&quot;&gt;&lt;/script&gt;\n    &lt;script src=&quot;https://code.jquery.com/jquery-3.7.1.min.js&quot;&gt;&lt;/script&gt;\n    &lt;script src=&quot;https://cdn.jsdelivr.net/npm/bootstrap@5.2.2/dist/js/bootstrap.bundle.min.js&quot;&gt;&lt;/script&gt;\n    &lt;script src=&quot;https://cdnjs.cloudflare.com/ajax/libs/Leaflet.awesome-markers/2.0.2/leaflet.awesome-markers.js&quot;&gt;&lt;/script&gt;\n    &lt;link rel=&quot;stylesheet&quot; href=&quot;https://cdn.jsdelivr.net/npm/leaflet@1.9.3/dist/leaflet.css&quot;/&gt;\n    &lt;link rel=&quot;stylesheet&quot; href=&quot;https://cdn.jsdelivr.net/npm/bootstrap@5.2.2/dist/css/bootstrap.min.css&quot;/&gt;\n    &lt;link rel=&quot;stylesheet&quot; href=&quot;https://netdna.bootstrapcdn.com/bootstrap/3.0.0/css/bootstrap-glyphicons.css&quot;/&gt;\n    &lt;link rel=&quot;stylesheet&quot; href=&quot;https://cdn.jsdelivr.net/npm/@fortawesome/fontawesome-free@6.2.0/css/all.min.css&quot;/&gt;\n    &lt;link rel=&quot;stylesheet&quot; href=&quot;https://cdnjs.cloudflare.com/ajax/libs/Leaflet.awesome-markers/2.0.2/leaflet.awesome-markers.css&quot;/&gt;\n    &lt;link rel=&quot;stylesheet&quot; href=&quot;https://cdn.jsdelivr.net/gh/python-visualization/folium/folium/templates/leaflet.awesome.rotate.min.css&quot;/&gt;\n    \n            &lt;meta name=&quot;viewport&quot; content=&quot;width=device-width,\n                initial-scale=1.0, maximum-scale=1.0, user-scalable=no&quot; /&gt;\n            &lt;style&gt;\n                #map_d568cfcb6e75a564bd05769449c42e44 {\n                    position: relative;\n                    width: 100.0%;\n                    height: 100.0%;\n                    left: 0.0%;\n                    top: 0.0%;\n                }\n                .leaflet-container { font-size: 1rem; }\n            &lt;/style&gt;\n        \n&lt;/head&gt;\n&lt;body&gt;\n    \n    \n            &lt;div class=&quot;folium-map&quot; id=&quot;map_d568cfcb6e75a564bd05769449c42e44&quot; &gt;&lt;/div&gt;\n        \n&lt;/body&gt;\n&lt;script&gt;\n    \n    \n            var map_d568cfcb6e75a564bd05769449c42e44 = L.map(\n                &quot;map_d568cfcb6e75a564bd05769449c42e44&quot;,\n                {\n                    center: [29.559684888503615, -95.0830971930759],\n                    crs: L.CRS.EPSG3857,\n                    ...{\n  &quot;zoom&quot;: 4,\n  &quot;zoomControl&quot;: true,\n  &quot;preferCanvas&quot;: false,\n}\n\n                }\n            );\n\n            \n\n        \n    \n            var tile_layer_ff10cea2be0e6465e53062f993d579f6 = L.tileLayer(\n                &quot;https://tile.openstreetmap.org/{z}/{x}/{y}.png&quot;,\n                {\n  &quot;minZoom&quot;: 0,\n  &quot;maxZoom&quot;: 19,\n  &quot;maxNativeZoom&quot;: 19,\n  &quot;noWrap&quot;: false,\n  &quot;attribution&quot;: &quot;\\u0026copy; \\u003ca href=\\&quot;https://www.openstreetmap.org/copyright\\&quot;\\u003eOpenStreetMap\\u003c/a\\u003e contributors&quot;,\n  &quot;subdomains&quot;: &quot;abc&quot;,\n  &quot;detectRetina&quot;: false,\n  &quot;tms&quot;: false,\n  &quot;opacity&quot;: 1,\n}\n\n            );\n        \n    \n            tile_layer_ff10cea2be0e6465e53062f993d579f6.addTo(map_d568cfcb6e75a564bd05769449c42e44);\n        \n    \n            var marker_cd0ddd723108178e333b7dbbf74e33b7 = L.marker(\n                [28.56230197, -80.57735648],\n                {\n}\n            ).addTo(map_d568cfcb6e75a564bd05769449c42e44);\n        \n    \n        var popup_e9395c7f08d5478e19840741841948a8 = L.popup({\n  &quot;maxWidth&quot;: &quot;100%&quot;,\n});\n\n        \n            \n                var html_f305626607e1efb3e3f1907480da280a = $(`&lt;div id=&quot;html_f305626607e1efb3e3f1907480da280a&quot; style=&quot;width: 100.0%; height: 100.0%;&quot;&gt;CCAFS LC-40&lt;/div&gt;`)[0];\n                popup_e9395c7f08d5478e19840741841948a8.setContent(html_f305626607e1efb3e3f1907480da280a);\n            \n        \n\n        marker_cd0ddd723108178e333b7dbbf74e33b7.bindPopup(popup_e9395c7f08d5478e19840741841948a8)\n        ;\n\n        \n    \n    \n            var marker_358e0c5067f10e8ce3694b0a480ddf85 = L.marker(\n                [28.56319718, -80.57682003],\n                {\n}\n            ).addTo(map_d568cfcb6e75a564bd05769449c42e44);\n        \n    \n        var popup_c0eeef646282b8f4dc3b67ab22b35db4 = L.popup({\n  &quot;maxWidth&quot;: &quot;100%&quot;,\n});\n\n        \n            \n                var html_0e400c2d4ccf54d27a5da94ef1271b3d = $(`&lt;div id=&quot;html_0e400c2d4ccf54d27a5da94ef1271b3d&quot; style=&quot;width: 100.0%; height: 100.0%;&quot;&gt;CCAFS SLC-40&lt;/div&gt;`)[0];\n                popup_c0eeef646282b8f4dc3b67ab22b35db4.setContent(html_0e400c2d4ccf54d27a5da94ef1271b3d);\n            \n        \n\n        marker_358e0c5067f10e8ce3694b0a480ddf85.bindPopup(popup_c0eeef646282b8f4dc3b67ab22b35db4)\n        ;\n\n        \n    \n    \n            var marker_c9b654cc9d8a78e4950e9b85cd75c9be = L.marker(\n                [28.57325457, -80.64689529],\n                {\n}\n            ).addTo(map_d568cfcb6e75a564bd05769449c42e44);\n        \n    \n        var popup_57691502c452587b8b74aad16ae91dbd = L.popup({\n  &quot;maxWidth&quot;: &quot;100%&quot;,\n});\n\n        \n            \n                var html_c6214e9dadfff7d3646bc3dacd5bd48b = $(`&lt;div id=&quot;html_c6214e9dadfff7d3646bc3dacd5bd48b&quot; style=&quot;width: 100.0%; height: 100.0%;&quot;&gt;KSC LC-39A&lt;/div&gt;`)[0];\n                popup_57691502c452587b8b74aad16ae91dbd.setContent(html_c6214e9dadfff7d3646bc3dacd5bd48b);\n            \n        \n\n        marker_c9b654cc9d8a78e4950e9b85cd75c9be.bindPopup(popup_57691502c452587b8b74aad16ae91dbd)\n        ;\n\n        \n    \n    \n            var marker_efb3472713871cc4cc31f60f6b2c9978 = L.marker(\n                [34.63283416, -120.6107455],\n                {\n}\n            ).addTo(map_d568cfcb6e75a564bd05769449c42e44);\n        \n    \n        var popup_eb018d9872b8d12173d3782f2fbd254f = L.popup({\n  &quot;maxWidth&quot;: &quot;100%&quot;,\n});\n\n        \n            \n                var html_5c9d5ee785331d67020199ef825eb391 = $(`&lt;div id=&quot;html_5c9d5ee785331d67020199ef825eb391&quot; style=&quot;width: 100.0%; height: 100.0%;&quot;&gt;VAFB SLC-4E&lt;/div&gt;`)[0];\n                popup_eb018d9872b8d12173d3782f2fbd254f.setContent(html_5c9d5ee785331d67020199ef825eb391);\n            \n        \n\n        marker_efb3472713871cc4cc31f60f6b2c9978.bindPopup(popup_eb018d9872b8d12173d3782f2fbd254f)\n        ;\n\n        \n    \n&lt;/script&gt;\n&lt;/html&gt;\" style=\"position:absolute;width:100%;height:100%;left:0;top:0;border:none !important;\" allowfullscreen webkitallowfullscreen mozallowfullscreen></iframe></div></div>"
          },
          "metadata": {}
        }
      ],
      "execution_count": 43
    },
    {
      "cell_type": "markdown",
      "source": "The generated map with marked launch sites should look similar to the following:\n",
      "metadata": {}
    },
    {
      "cell_type": "markdown",
      "source": "<center>\n    <img src=\"https://cf-courses-data.s3.us.cloud-object-storage.appdomain.cloud/IBM-DS0321EN-SkillsNetwork/labs/module_3/images/launch_site_markers.png\">\n</center>\n",
      "metadata": {}
    },
    {
      "cell_type": "markdown",
      "source": "Now, you can explore the map by zoom-in/out the marked areas\n, and try to answer the following questions:\n\n*   Are all launch sites in proximity to the Equator line?\n*   Are all launch sites in very close proximity to the coast?\n\nAlso please try to explain your findings.\n",
      "metadata": {}
    },
    {
      "cell_type": "code",
      "source": "# Task 2: Mark the success/failed launches for each site on the map\n\nsite_map = folium.Map(location=nasa_coordinate, zoom_start=5)\n\nfor _, row in spacex_df.iterrows():\n    lat = row['Lat']\n    lon = row['Long']\n    site = row['Launch Site']\n    folium.Marker([lat, lon], popup=site).add_to(site_map)\n\nsite_map",
      "metadata": {
        "trusted": true
      },
      "outputs": [
        {
          "execution_count": 54,
          "output_type": "execute_result",
          "data": {
            "text/plain": "<folium.folium.Map at 0x64295f8>",
            "text/html": "<div style=\"width:100%;\"><div style=\"position:relative;width:100%;height:0;padding-bottom:60%;\"><span style=\"color:#565656\">Make this Notebook Trusted to load map: File -> Trust Notebook</span><iframe srcdoc=\"&lt;!DOCTYPE html&gt;\n&lt;html&gt;\n&lt;head&gt;\n    \n    &lt;meta http-equiv=&quot;content-type&quot; content=&quot;text/html; charset=UTF-8&quot; /&gt;\n    \n        &lt;script&gt;\n            L_NO_TOUCH = false;\n            L_DISABLE_3D = false;\n        &lt;/script&gt;\n    \n    &lt;style&gt;html, body {width: 100%;height: 100%;margin: 0;padding: 0;}&lt;/style&gt;\n    &lt;style&gt;#map {position:absolute;top:0;bottom:0;right:0;left:0;}&lt;/style&gt;\n    &lt;script src=&quot;https://cdn.jsdelivr.net/npm/leaflet@1.9.3/dist/leaflet.js&quot;&gt;&lt;/script&gt;\n    &lt;script src=&quot;https://code.jquery.com/jquery-3.7.1.min.js&quot;&gt;&lt;/script&gt;\n    &lt;script src=&quot;https://cdn.jsdelivr.net/npm/bootstrap@5.2.2/dist/js/bootstrap.bundle.min.js&quot;&gt;&lt;/script&gt;\n    &lt;script src=&quot;https://cdnjs.cloudflare.com/ajax/libs/Leaflet.awesome-markers/2.0.2/leaflet.awesome-markers.js&quot;&gt;&lt;/script&gt;\n    &lt;link rel=&quot;stylesheet&quot; href=&quot;https://cdn.jsdelivr.net/npm/leaflet@1.9.3/dist/leaflet.css&quot;/&gt;\n    &lt;link rel=&quot;stylesheet&quot; href=&quot;https://cdn.jsdelivr.net/npm/bootstrap@5.2.2/dist/css/bootstrap.min.css&quot;/&gt;\n    &lt;link rel=&quot;stylesheet&quot; href=&quot;https://netdna.bootstrapcdn.com/bootstrap/3.0.0/css/bootstrap-glyphicons.css&quot;/&gt;\n    &lt;link rel=&quot;stylesheet&quot; href=&quot;https://cdn.jsdelivr.net/npm/@fortawesome/fontawesome-free@6.2.0/css/all.min.css&quot;/&gt;\n    &lt;link rel=&quot;stylesheet&quot; href=&quot;https://cdnjs.cloudflare.com/ajax/libs/Leaflet.awesome-markers/2.0.2/leaflet.awesome-markers.css&quot;/&gt;\n    &lt;link rel=&quot;stylesheet&quot; href=&quot;https://cdn.jsdelivr.net/gh/python-visualization/folium/folium/templates/leaflet.awesome.rotate.min.css&quot;/&gt;\n    \n            &lt;meta name=&quot;viewport&quot; content=&quot;width=device-width,\n                initial-scale=1.0, maximum-scale=1.0, user-scalable=no&quot; /&gt;\n            &lt;style&gt;\n                #map_1c634f5936b18df97fc45ad7d2b1299c {\n                    position: relative;\n                    width: 100.0%;\n                    height: 100.0%;\n                    left: 0.0%;\n                    top: 0.0%;\n                }\n                .leaflet-container { font-size: 1rem; }\n            &lt;/style&gt;\n        \n&lt;/head&gt;\n&lt;body&gt;\n    \n    \n            &lt;div class=&quot;folium-map&quot; id=&quot;map_1c634f5936b18df97fc45ad7d2b1299c&quot; &gt;&lt;/div&gt;\n        \n&lt;/body&gt;\n&lt;script&gt;\n    \n    \n            var map_1c634f5936b18df97fc45ad7d2b1299c = L.map(\n                &quot;map_1c634f5936b18df97fc45ad7d2b1299c&quot;,\n                {\n                    center: [29.559684888503615, -95.0830971930759],\n                    crs: L.CRS.EPSG3857,\n                    ...{\n  &quot;zoom&quot;: 5,\n  &quot;zoomControl&quot;: true,\n  &quot;preferCanvas&quot;: false,\n}\n\n                }\n            );\n\n            \n\n        \n    \n            var tile_layer_4c876f62224246bf053efa363cc2a6e4 = L.tileLayer(\n                &quot;https://tile.openstreetmap.org/{z}/{x}/{y}.png&quot;,\n                {\n  &quot;minZoom&quot;: 0,\n  &quot;maxZoom&quot;: 19,\n  &quot;maxNativeZoom&quot;: 19,\n  &quot;noWrap&quot;: false,\n  &quot;attribution&quot;: &quot;\\u0026copy; \\u003ca href=\\&quot;https://www.openstreetmap.org/copyright\\&quot;\\u003eOpenStreetMap\\u003c/a\\u003e contributors&quot;,\n  &quot;subdomains&quot;: &quot;abc&quot;,\n  &quot;detectRetina&quot;: false,\n  &quot;tms&quot;: false,\n  &quot;opacity&quot;: 1,\n}\n\n            );\n        \n    \n            tile_layer_4c876f62224246bf053efa363cc2a6e4.addTo(map_1c634f5936b18df97fc45ad7d2b1299c);\n        \n    \n            var marker_a7c65a023d1df5469ace2efaefd0e35f = L.marker(\n                [28.56230197, -80.57735648],\n                {\n}\n            ).addTo(map_1c634f5936b18df97fc45ad7d2b1299c);\n        \n    \n        var popup_f7215c68396244bf1ce14f6bb891c270 = L.popup({\n  &quot;maxWidth&quot;: &quot;100%&quot;,\n});\n\n        \n            \n                var html_e1a4da85a5f273a7c64ad4fc28c9f804 = $(`&lt;div id=&quot;html_e1a4da85a5f273a7c64ad4fc28c9f804&quot; style=&quot;width: 100.0%; height: 100.0%;&quot;&gt;CCAFS LC-40&lt;/div&gt;`)[0];\n                popup_f7215c68396244bf1ce14f6bb891c270.setContent(html_e1a4da85a5f273a7c64ad4fc28c9f804);\n            \n        \n\n        marker_a7c65a023d1df5469ace2efaefd0e35f.bindPopup(popup_f7215c68396244bf1ce14f6bb891c270)\n        ;\n\n        \n    \n    \n            var marker_016c6068f326a50be6cc3a8804d508ca = L.marker(\n                [28.56230197, -80.57735648],\n                {\n}\n            ).addTo(map_1c634f5936b18df97fc45ad7d2b1299c);\n        \n    \n        var popup_85637e4c7906ae7eecfc857bb294830d = L.popup({\n  &quot;maxWidth&quot;: &quot;100%&quot;,\n});\n\n        \n            \n                var html_f24120dafc9e2f83d43aa42cdd88e31a = $(`&lt;div id=&quot;html_f24120dafc9e2f83d43aa42cdd88e31a&quot; style=&quot;width: 100.0%; height: 100.0%;&quot;&gt;CCAFS LC-40&lt;/div&gt;`)[0];\n                popup_85637e4c7906ae7eecfc857bb294830d.setContent(html_f24120dafc9e2f83d43aa42cdd88e31a);\n            \n        \n\n        marker_016c6068f326a50be6cc3a8804d508ca.bindPopup(popup_85637e4c7906ae7eecfc857bb294830d)\n        ;\n\n        \n    \n    \n            var marker_066763ca4f7b8480f0e292f684c4e4df = L.marker(\n                [28.56230197, -80.57735648],\n                {\n}\n            ).addTo(map_1c634f5936b18df97fc45ad7d2b1299c);\n        \n    \n        var popup_b2e4534473e229d30056798d7c9114ea = L.popup({\n  &quot;maxWidth&quot;: &quot;100%&quot;,\n});\n\n        \n            \n                var html_9ea8c1027203748a2941e558afa8fc62 = $(`&lt;div id=&quot;html_9ea8c1027203748a2941e558afa8fc62&quot; style=&quot;width: 100.0%; height: 100.0%;&quot;&gt;CCAFS LC-40&lt;/div&gt;`)[0];\n                popup_b2e4534473e229d30056798d7c9114ea.setContent(html_9ea8c1027203748a2941e558afa8fc62);\n            \n        \n\n        marker_066763ca4f7b8480f0e292f684c4e4df.bindPopup(popup_b2e4534473e229d30056798d7c9114ea)\n        ;\n\n        \n    \n    \n            var marker_70e5d8287f18711bda281c0f901b7971 = L.marker(\n                [28.56230197, -80.57735648],\n                {\n}\n            ).addTo(map_1c634f5936b18df97fc45ad7d2b1299c);\n        \n    \n        var popup_68491c2a65c5322fd3b7e2a7b47b31af = L.popup({\n  &quot;maxWidth&quot;: &quot;100%&quot;,\n});\n\n        \n            \n                var html_1d519c02ef13985950b4b734cea6478a = $(`&lt;div id=&quot;html_1d519c02ef13985950b4b734cea6478a&quot; style=&quot;width: 100.0%; height: 100.0%;&quot;&gt;CCAFS LC-40&lt;/div&gt;`)[0];\n                popup_68491c2a65c5322fd3b7e2a7b47b31af.setContent(html_1d519c02ef13985950b4b734cea6478a);\n            \n        \n\n        marker_70e5d8287f18711bda281c0f901b7971.bindPopup(popup_68491c2a65c5322fd3b7e2a7b47b31af)\n        ;\n\n        \n    \n    \n            var marker_d026fd0b89c1693a7cb4a622ff5f63f2 = L.marker(\n                [28.56230197, -80.57735648],\n                {\n}\n            ).addTo(map_1c634f5936b18df97fc45ad7d2b1299c);\n        \n    \n        var popup_002a500c79c9fc4c013e0a78e4e55d78 = L.popup({\n  &quot;maxWidth&quot;: &quot;100%&quot;,\n});\n\n        \n            \n                var html_3d0d6d0c14361b6ea3a06df3bc120f61 = $(`&lt;div id=&quot;html_3d0d6d0c14361b6ea3a06df3bc120f61&quot; style=&quot;width: 100.0%; height: 100.0%;&quot;&gt;CCAFS LC-40&lt;/div&gt;`)[0];\n                popup_002a500c79c9fc4c013e0a78e4e55d78.setContent(html_3d0d6d0c14361b6ea3a06df3bc120f61);\n            \n        \n\n        marker_d026fd0b89c1693a7cb4a622ff5f63f2.bindPopup(popup_002a500c79c9fc4c013e0a78e4e55d78)\n        ;\n\n        \n    \n    \n            var marker_33cd08b5cc505a033a202213b978bc97 = L.marker(\n                [28.56230197, -80.57735648],\n                {\n}\n            ).addTo(map_1c634f5936b18df97fc45ad7d2b1299c);\n        \n    \n        var popup_91c9af66f6c5152471b975fe2694bb6b = L.popup({\n  &quot;maxWidth&quot;: &quot;100%&quot;,\n});\n\n        \n            \n                var html_39d08ce41d346587d869563ba56bb91c = $(`&lt;div id=&quot;html_39d08ce41d346587d869563ba56bb91c&quot; style=&quot;width: 100.0%; height: 100.0%;&quot;&gt;CCAFS LC-40&lt;/div&gt;`)[0];\n                popup_91c9af66f6c5152471b975fe2694bb6b.setContent(html_39d08ce41d346587d869563ba56bb91c);\n            \n        \n\n        marker_33cd08b5cc505a033a202213b978bc97.bindPopup(popup_91c9af66f6c5152471b975fe2694bb6b)\n        ;\n\n        \n    \n    \n            var marker_ff48a03c4a8d60887d0d0c5feff1875a = L.marker(\n                [28.56230197, -80.57735648],\n                {\n}\n            ).addTo(map_1c634f5936b18df97fc45ad7d2b1299c);\n        \n    \n        var popup_d91f315e4412e24b93e75b9f7218248c = L.popup({\n  &quot;maxWidth&quot;: &quot;100%&quot;,\n});\n\n        \n            \n                var html_0316a24160cf68431f1eb64cd71c5dad = $(`&lt;div id=&quot;html_0316a24160cf68431f1eb64cd71c5dad&quot; style=&quot;width: 100.0%; height: 100.0%;&quot;&gt;CCAFS LC-40&lt;/div&gt;`)[0];\n                popup_d91f315e4412e24b93e75b9f7218248c.setContent(html_0316a24160cf68431f1eb64cd71c5dad);\n            \n        \n\n        marker_ff48a03c4a8d60887d0d0c5feff1875a.bindPopup(popup_d91f315e4412e24b93e75b9f7218248c)\n        ;\n\n        \n    \n    \n            var marker_1a5067eab535cea36a381ed1be9beff2 = L.marker(\n                [28.56230197, -80.57735648],\n                {\n}\n            ).addTo(map_1c634f5936b18df97fc45ad7d2b1299c);\n        \n    \n        var popup_2d42cf9783b7bc1822a132e4a1ee26bc = L.popup({\n  &quot;maxWidth&quot;: &quot;100%&quot;,\n});\n\n        \n            \n                var html_dd809f45d9bca7a7dfa79f4d78ba0ccd = $(`&lt;div id=&quot;html_dd809f45d9bca7a7dfa79f4d78ba0ccd&quot; style=&quot;width: 100.0%; height: 100.0%;&quot;&gt;CCAFS LC-40&lt;/div&gt;`)[0];\n                popup_2d42cf9783b7bc1822a132e4a1ee26bc.setContent(html_dd809f45d9bca7a7dfa79f4d78ba0ccd);\n            \n        \n\n        marker_1a5067eab535cea36a381ed1be9beff2.bindPopup(popup_2d42cf9783b7bc1822a132e4a1ee26bc)\n        ;\n\n        \n    \n    \n            var marker_4949ef43af2a52dbeeb1ac7548d5cc14 = L.marker(\n                [28.56230197, -80.57735648],\n                {\n}\n            ).addTo(map_1c634f5936b18df97fc45ad7d2b1299c);\n        \n    \n        var popup_2af872e72e0aca0fe11a8685e71a8fd4 = L.popup({\n  &quot;maxWidth&quot;: &quot;100%&quot;,\n});\n\n        \n            \n                var html_17c2590c888428735a2059cf008fdbf9 = $(`&lt;div id=&quot;html_17c2590c888428735a2059cf008fdbf9&quot; style=&quot;width: 100.0%; height: 100.0%;&quot;&gt;CCAFS LC-40&lt;/div&gt;`)[0];\n                popup_2af872e72e0aca0fe11a8685e71a8fd4.setContent(html_17c2590c888428735a2059cf008fdbf9);\n            \n        \n\n        marker_4949ef43af2a52dbeeb1ac7548d5cc14.bindPopup(popup_2af872e72e0aca0fe11a8685e71a8fd4)\n        ;\n\n        \n    \n    \n            var marker_7afe34f3ae34ed8ac0a58ceb3b18ad83 = L.marker(\n                [28.56230197, -80.57735648],\n                {\n}\n            ).addTo(map_1c634f5936b18df97fc45ad7d2b1299c);\n        \n    \n        var popup_7f3d504c994eb02b634fbd07b3ff63be = L.popup({\n  &quot;maxWidth&quot;: &quot;100%&quot;,\n});\n\n        \n            \n                var html_c5365485ace8b87557cfa893409c96dc = $(`&lt;div id=&quot;html_c5365485ace8b87557cfa893409c96dc&quot; style=&quot;width: 100.0%; height: 100.0%;&quot;&gt;CCAFS LC-40&lt;/div&gt;`)[0];\n                popup_7f3d504c994eb02b634fbd07b3ff63be.setContent(html_c5365485ace8b87557cfa893409c96dc);\n            \n        \n\n        marker_7afe34f3ae34ed8ac0a58ceb3b18ad83.bindPopup(popup_7f3d504c994eb02b634fbd07b3ff63be)\n        ;\n\n        \n    \n    \n            var marker_fedcbfda139640cb7d6754dde3477689 = L.marker(\n                [28.56230197, -80.57735648],\n                {\n}\n            ).addTo(map_1c634f5936b18df97fc45ad7d2b1299c);\n        \n    \n        var popup_0bd0c6de53b241a98015bc5f9b2098cf = L.popup({\n  &quot;maxWidth&quot;: &quot;100%&quot;,\n});\n\n        \n            \n                var html_612c5ef5e7a17e6b4e748fad9ea3ae68 = $(`&lt;div id=&quot;html_612c5ef5e7a17e6b4e748fad9ea3ae68&quot; style=&quot;width: 100.0%; height: 100.0%;&quot;&gt;CCAFS LC-40&lt;/div&gt;`)[0];\n                popup_0bd0c6de53b241a98015bc5f9b2098cf.setContent(html_612c5ef5e7a17e6b4e748fad9ea3ae68);\n            \n        \n\n        marker_fedcbfda139640cb7d6754dde3477689.bindPopup(popup_0bd0c6de53b241a98015bc5f9b2098cf)\n        ;\n\n        \n    \n    \n            var marker_d712967edb8fd720941ac7d78e9e2ef4 = L.marker(\n                [28.56230197, -80.57735648],\n                {\n}\n            ).addTo(map_1c634f5936b18df97fc45ad7d2b1299c);\n        \n    \n        var popup_cc30a8b11493e174a40c6ea4d0fe9b92 = L.popup({\n  &quot;maxWidth&quot;: &quot;100%&quot;,\n});\n\n        \n            \n                var html_008509748fdbaa2314a4d5dde5a29e4a = $(`&lt;div id=&quot;html_008509748fdbaa2314a4d5dde5a29e4a&quot; style=&quot;width: 100.0%; height: 100.0%;&quot;&gt;CCAFS LC-40&lt;/div&gt;`)[0];\n                popup_cc30a8b11493e174a40c6ea4d0fe9b92.setContent(html_008509748fdbaa2314a4d5dde5a29e4a);\n            \n        \n\n        marker_d712967edb8fd720941ac7d78e9e2ef4.bindPopup(popup_cc30a8b11493e174a40c6ea4d0fe9b92)\n        ;\n\n        \n    \n    \n            var marker_94973b2a9c6a88cff9c3a8499c29f057 = L.marker(\n                [28.56230197, -80.57735648],\n                {\n}\n            ).addTo(map_1c634f5936b18df97fc45ad7d2b1299c);\n        \n    \n        var popup_880df03de54dd7cf97812c9a007c158d = L.popup({\n  &quot;maxWidth&quot;: &quot;100%&quot;,\n});\n\n        \n            \n                var html_7e4ad6d764d165b613495d3894330987 = $(`&lt;div id=&quot;html_7e4ad6d764d165b613495d3894330987&quot; style=&quot;width: 100.0%; height: 100.0%;&quot;&gt;CCAFS LC-40&lt;/div&gt;`)[0];\n                popup_880df03de54dd7cf97812c9a007c158d.setContent(html_7e4ad6d764d165b613495d3894330987);\n            \n        \n\n        marker_94973b2a9c6a88cff9c3a8499c29f057.bindPopup(popup_880df03de54dd7cf97812c9a007c158d)\n        ;\n\n        \n    \n    \n            var marker_e7d01805cd54acaec8b626f929931892 = L.marker(\n                [28.56230197, -80.57735648],\n                {\n}\n            ).addTo(map_1c634f5936b18df97fc45ad7d2b1299c);\n        \n    \n        var popup_de4a0495df5be4a97a275b4ccc973fdc = L.popup({\n  &quot;maxWidth&quot;: &quot;100%&quot;,\n});\n\n        \n            \n                var html_eb5309e1de6a090b4ad63db40305837d = $(`&lt;div id=&quot;html_eb5309e1de6a090b4ad63db40305837d&quot; style=&quot;width: 100.0%; height: 100.0%;&quot;&gt;CCAFS LC-40&lt;/div&gt;`)[0];\n                popup_de4a0495df5be4a97a275b4ccc973fdc.setContent(html_eb5309e1de6a090b4ad63db40305837d);\n            \n        \n\n        marker_e7d01805cd54acaec8b626f929931892.bindPopup(popup_de4a0495df5be4a97a275b4ccc973fdc)\n        ;\n\n        \n    \n    \n            var marker_aac4eb9e4a020d0591b6ef62d60e2dc3 = L.marker(\n                [28.56230197, -80.57735648],\n                {\n}\n            ).addTo(map_1c634f5936b18df97fc45ad7d2b1299c);\n        \n    \n        var popup_1ef8835a53db67a9fb4ec23ebf3c5d18 = L.popup({\n  &quot;maxWidth&quot;: &quot;100%&quot;,\n});\n\n        \n            \n                var html_916b9d7c348f2af80b568eaecf4d0cdc = $(`&lt;div id=&quot;html_916b9d7c348f2af80b568eaecf4d0cdc&quot; style=&quot;width: 100.0%; height: 100.0%;&quot;&gt;CCAFS LC-40&lt;/div&gt;`)[0];\n                popup_1ef8835a53db67a9fb4ec23ebf3c5d18.setContent(html_916b9d7c348f2af80b568eaecf4d0cdc);\n            \n        \n\n        marker_aac4eb9e4a020d0591b6ef62d60e2dc3.bindPopup(popup_1ef8835a53db67a9fb4ec23ebf3c5d18)\n        ;\n\n        \n    \n    \n            var marker_6006b7fbed6619cb37edd6b9afddb496 = L.marker(\n                [28.56230197, -80.57735648],\n                {\n}\n            ).addTo(map_1c634f5936b18df97fc45ad7d2b1299c);\n        \n    \n        var popup_8e0f9cef1d0c2f0342ba74a5e5e31c0b = L.popup({\n  &quot;maxWidth&quot;: &quot;100%&quot;,\n});\n\n        \n            \n                var html_43525098c1a0b0019931d00274c7ee41 = $(`&lt;div id=&quot;html_43525098c1a0b0019931d00274c7ee41&quot; style=&quot;width: 100.0%; height: 100.0%;&quot;&gt;CCAFS LC-40&lt;/div&gt;`)[0];\n                popup_8e0f9cef1d0c2f0342ba74a5e5e31c0b.setContent(html_43525098c1a0b0019931d00274c7ee41);\n            \n        \n\n        marker_6006b7fbed6619cb37edd6b9afddb496.bindPopup(popup_8e0f9cef1d0c2f0342ba74a5e5e31c0b)\n        ;\n\n        \n    \n    \n            var marker_e1d97e929f99d8e987822429e7ff0d6c = L.marker(\n                [28.56230197, -80.57735648],\n                {\n}\n            ).addTo(map_1c634f5936b18df97fc45ad7d2b1299c);\n        \n    \n        var popup_5a1a5fb0965092d328e1b28b11728c6d = L.popup({\n  &quot;maxWidth&quot;: &quot;100%&quot;,\n});\n\n        \n            \n                var html_fc9920b897b3a11a028909380bbf7994 = $(`&lt;div id=&quot;html_fc9920b897b3a11a028909380bbf7994&quot; style=&quot;width: 100.0%; height: 100.0%;&quot;&gt;CCAFS LC-40&lt;/div&gt;`)[0];\n                popup_5a1a5fb0965092d328e1b28b11728c6d.setContent(html_fc9920b897b3a11a028909380bbf7994);\n            \n        \n\n        marker_e1d97e929f99d8e987822429e7ff0d6c.bindPopup(popup_5a1a5fb0965092d328e1b28b11728c6d)\n        ;\n\n        \n    \n    \n            var marker_a5c496286c535ae97a235d8c4055d1c5 = L.marker(\n                [28.56230197, -80.57735648],\n                {\n}\n            ).addTo(map_1c634f5936b18df97fc45ad7d2b1299c);\n        \n    \n        var popup_5b12c854a4cf8d5a9388ea89a37c56f5 = L.popup({\n  &quot;maxWidth&quot;: &quot;100%&quot;,\n});\n\n        \n            \n                var html_0310907115f24c310955f82b544a5877 = $(`&lt;div id=&quot;html_0310907115f24c310955f82b544a5877&quot; style=&quot;width: 100.0%; height: 100.0%;&quot;&gt;CCAFS LC-40&lt;/div&gt;`)[0];\n                popup_5b12c854a4cf8d5a9388ea89a37c56f5.setContent(html_0310907115f24c310955f82b544a5877);\n            \n        \n\n        marker_a5c496286c535ae97a235d8c4055d1c5.bindPopup(popup_5b12c854a4cf8d5a9388ea89a37c56f5)\n        ;\n\n        \n    \n    \n            var marker_80e262b10ddd4394aec1a0742943040b = L.marker(\n                [28.56230197, -80.57735648],\n                {\n}\n            ).addTo(map_1c634f5936b18df97fc45ad7d2b1299c);\n        \n    \n        var popup_d96e950074849c9eb45ad80c3b55223e = L.popup({\n  &quot;maxWidth&quot;: &quot;100%&quot;,\n});\n\n        \n            \n                var html_2c103a33c86fc6218a628fca7ee3943b = $(`&lt;div id=&quot;html_2c103a33c86fc6218a628fca7ee3943b&quot; style=&quot;width: 100.0%; height: 100.0%;&quot;&gt;CCAFS LC-40&lt;/div&gt;`)[0];\n                popup_d96e950074849c9eb45ad80c3b55223e.setContent(html_2c103a33c86fc6218a628fca7ee3943b);\n            \n        \n\n        marker_80e262b10ddd4394aec1a0742943040b.bindPopup(popup_d96e950074849c9eb45ad80c3b55223e)\n        ;\n\n        \n    \n    \n            var marker_39abbffd48f228e9473211295dfdff65 = L.marker(\n                [28.56230197, -80.57735648],\n                {\n}\n            ).addTo(map_1c634f5936b18df97fc45ad7d2b1299c);\n        \n    \n        var popup_d4613a4bd2367fc5553d9ec617783bd8 = L.popup({\n  &quot;maxWidth&quot;: &quot;100%&quot;,\n});\n\n        \n            \n                var html_b05a0d53dbfa865b27c41900aad19ebc = $(`&lt;div id=&quot;html_b05a0d53dbfa865b27c41900aad19ebc&quot; style=&quot;width: 100.0%; height: 100.0%;&quot;&gt;CCAFS LC-40&lt;/div&gt;`)[0];\n                popup_d4613a4bd2367fc5553d9ec617783bd8.setContent(html_b05a0d53dbfa865b27c41900aad19ebc);\n            \n        \n\n        marker_39abbffd48f228e9473211295dfdff65.bindPopup(popup_d4613a4bd2367fc5553d9ec617783bd8)\n        ;\n\n        \n    \n    \n            var marker_dd0c691e81f8564302a89f15f7d02dae = L.marker(\n                [28.56230197, -80.57735648],\n                {\n}\n            ).addTo(map_1c634f5936b18df97fc45ad7d2b1299c);\n        \n    \n        var popup_13b1c7e5c94b1a6258fc70c419ea827f = L.popup({\n  &quot;maxWidth&quot;: &quot;100%&quot;,\n});\n\n        \n            \n                var html_763953c5389b32f1b3bb63deb0f39815 = $(`&lt;div id=&quot;html_763953c5389b32f1b3bb63deb0f39815&quot; style=&quot;width: 100.0%; height: 100.0%;&quot;&gt;CCAFS LC-40&lt;/div&gt;`)[0];\n                popup_13b1c7e5c94b1a6258fc70c419ea827f.setContent(html_763953c5389b32f1b3bb63deb0f39815);\n            \n        \n\n        marker_dd0c691e81f8564302a89f15f7d02dae.bindPopup(popup_13b1c7e5c94b1a6258fc70c419ea827f)\n        ;\n\n        \n    \n    \n            var marker_871798532cef69eb7d17ecd67b815ea6 = L.marker(\n                [28.56230197, -80.57735648],\n                {\n}\n            ).addTo(map_1c634f5936b18df97fc45ad7d2b1299c);\n        \n    \n        var popup_6e2addce9937dc1f2b0a7ccc070500b4 = L.popup({\n  &quot;maxWidth&quot;: &quot;100%&quot;,\n});\n\n        \n            \n                var html_4843767b24df805594de51ac8b6da9b4 = $(`&lt;div id=&quot;html_4843767b24df805594de51ac8b6da9b4&quot; style=&quot;width: 100.0%; height: 100.0%;&quot;&gt;CCAFS LC-40&lt;/div&gt;`)[0];\n                popup_6e2addce9937dc1f2b0a7ccc070500b4.setContent(html_4843767b24df805594de51ac8b6da9b4);\n            \n        \n\n        marker_871798532cef69eb7d17ecd67b815ea6.bindPopup(popup_6e2addce9937dc1f2b0a7ccc070500b4)\n        ;\n\n        \n    \n    \n            var marker_7ad83e5c43aaee1d07ee803f0d3518b6 = L.marker(\n                [28.56230197, -80.57735648],\n                {\n}\n            ).addTo(map_1c634f5936b18df97fc45ad7d2b1299c);\n        \n    \n        var popup_8af91595674f19385d5a04f3445d6b98 = L.popup({\n  &quot;maxWidth&quot;: &quot;100%&quot;,\n});\n\n        \n            \n                var html_ebbc99e1a98ea2ec1267f217dcee8d95 = $(`&lt;div id=&quot;html_ebbc99e1a98ea2ec1267f217dcee8d95&quot; style=&quot;width: 100.0%; height: 100.0%;&quot;&gt;CCAFS LC-40&lt;/div&gt;`)[0];\n                popup_8af91595674f19385d5a04f3445d6b98.setContent(html_ebbc99e1a98ea2ec1267f217dcee8d95);\n            \n        \n\n        marker_7ad83e5c43aaee1d07ee803f0d3518b6.bindPopup(popup_8af91595674f19385d5a04f3445d6b98)\n        ;\n\n        \n    \n    \n            var marker_11e1675165885d801b3fd0d24926f8d9 = L.marker(\n                [28.56230197, -80.57735648],\n                {\n}\n            ).addTo(map_1c634f5936b18df97fc45ad7d2b1299c);\n        \n    \n        var popup_5472874591ee7d796c28dffef8a5fac8 = L.popup({\n  &quot;maxWidth&quot;: &quot;100%&quot;,\n});\n\n        \n            \n                var html_b346bce310c4411e99879d5dbd764646 = $(`&lt;div id=&quot;html_b346bce310c4411e99879d5dbd764646&quot; style=&quot;width: 100.0%; height: 100.0%;&quot;&gt;CCAFS LC-40&lt;/div&gt;`)[0];\n                popup_5472874591ee7d796c28dffef8a5fac8.setContent(html_b346bce310c4411e99879d5dbd764646);\n            \n        \n\n        marker_11e1675165885d801b3fd0d24926f8d9.bindPopup(popup_5472874591ee7d796c28dffef8a5fac8)\n        ;\n\n        \n    \n    \n            var marker_00d37f457ae428d839ef24656c24306c = L.marker(\n                [28.56230197, -80.57735648],\n                {\n}\n            ).addTo(map_1c634f5936b18df97fc45ad7d2b1299c);\n        \n    \n        var popup_80d7be4f18f78538cb2da4c6deffd805 = L.popup({\n  &quot;maxWidth&quot;: &quot;100%&quot;,\n});\n\n        \n            \n                var html_ae0a2174833ff43f84a24d6f1fb10bce = $(`&lt;div id=&quot;html_ae0a2174833ff43f84a24d6f1fb10bce&quot; style=&quot;width: 100.0%; height: 100.0%;&quot;&gt;CCAFS LC-40&lt;/div&gt;`)[0];\n                popup_80d7be4f18f78538cb2da4c6deffd805.setContent(html_ae0a2174833ff43f84a24d6f1fb10bce);\n            \n        \n\n        marker_00d37f457ae428d839ef24656c24306c.bindPopup(popup_80d7be4f18f78538cb2da4c6deffd805)\n        ;\n\n        \n    \n    \n            var marker_aeba70447729e52fafe3ef3e79fd5187 = L.marker(\n                [28.56230197, -80.57735648],\n                {\n}\n            ).addTo(map_1c634f5936b18df97fc45ad7d2b1299c);\n        \n    \n        var popup_409e74576b7157ff925af6502a13acfa = L.popup({\n  &quot;maxWidth&quot;: &quot;100%&quot;,\n});\n\n        \n            \n                var html_f81fea08c3b50e4dec032b8ed72da301 = $(`&lt;div id=&quot;html_f81fea08c3b50e4dec032b8ed72da301&quot; style=&quot;width: 100.0%; height: 100.0%;&quot;&gt;CCAFS LC-40&lt;/div&gt;`)[0];\n                popup_409e74576b7157ff925af6502a13acfa.setContent(html_f81fea08c3b50e4dec032b8ed72da301);\n            \n        \n\n        marker_aeba70447729e52fafe3ef3e79fd5187.bindPopup(popup_409e74576b7157ff925af6502a13acfa)\n        ;\n\n        \n    \n    \n            var marker_419ccd956e00b8c9f5480f6e328b83cd = L.marker(\n                [34.63283416, -120.6107455],\n                {\n}\n            ).addTo(map_1c634f5936b18df97fc45ad7d2b1299c);\n        \n    \n        var popup_afa808a5329a935c2a2a49b97da92038 = L.popup({\n  &quot;maxWidth&quot;: &quot;100%&quot;,\n});\n\n        \n            \n                var html_e2955cd2b85a3fb05cdf7a6d45b3a28c = $(`&lt;div id=&quot;html_e2955cd2b85a3fb05cdf7a6d45b3a28c&quot; style=&quot;width: 100.0%; height: 100.0%;&quot;&gt;VAFB SLC-4E&lt;/div&gt;`)[0];\n                popup_afa808a5329a935c2a2a49b97da92038.setContent(html_e2955cd2b85a3fb05cdf7a6d45b3a28c);\n            \n        \n\n        marker_419ccd956e00b8c9f5480f6e328b83cd.bindPopup(popup_afa808a5329a935c2a2a49b97da92038)\n        ;\n\n        \n    \n    \n            var marker_82b8016905ad9699a815baf0afd27d45 = L.marker(\n                [34.63283416, -120.6107455],\n                {\n}\n            ).addTo(map_1c634f5936b18df97fc45ad7d2b1299c);\n        \n    \n        var popup_78b27e87bd1df5443c1ef76e6a8b4ccf = L.popup({\n  &quot;maxWidth&quot;: &quot;100%&quot;,\n});\n\n        \n            \n                var html_46a5b6367a5f6ac36dee0a53d82caa83 = $(`&lt;div id=&quot;html_46a5b6367a5f6ac36dee0a53d82caa83&quot; style=&quot;width: 100.0%; height: 100.0%;&quot;&gt;VAFB SLC-4E&lt;/div&gt;`)[0];\n                popup_78b27e87bd1df5443c1ef76e6a8b4ccf.setContent(html_46a5b6367a5f6ac36dee0a53d82caa83);\n            \n        \n\n        marker_82b8016905ad9699a815baf0afd27d45.bindPopup(popup_78b27e87bd1df5443c1ef76e6a8b4ccf)\n        ;\n\n        \n    \n    \n            var marker_5d394502d0b31d12b437887bf5171a6b = L.marker(\n                [34.63283416, -120.6107455],\n                {\n}\n            ).addTo(map_1c634f5936b18df97fc45ad7d2b1299c);\n        \n    \n        var popup_02e83081afea5fad858162117142ffe5 = L.popup({\n  &quot;maxWidth&quot;: &quot;100%&quot;,\n});\n\n        \n            \n                var html_1238449b2868491e2e5bd8127cdc03dc = $(`&lt;div id=&quot;html_1238449b2868491e2e5bd8127cdc03dc&quot; style=&quot;width: 100.0%; height: 100.0%;&quot;&gt;VAFB SLC-4E&lt;/div&gt;`)[0];\n                popup_02e83081afea5fad858162117142ffe5.setContent(html_1238449b2868491e2e5bd8127cdc03dc);\n            \n        \n\n        marker_5d394502d0b31d12b437887bf5171a6b.bindPopup(popup_02e83081afea5fad858162117142ffe5)\n        ;\n\n        \n    \n    \n            var marker_89ec4ed0ad6f29637022083ea298c970 = L.marker(\n                [34.63283416, -120.6107455],\n                {\n}\n            ).addTo(map_1c634f5936b18df97fc45ad7d2b1299c);\n        \n    \n        var popup_c0823567186cb7e9bbf5a90f5ced28e3 = L.popup({\n  &quot;maxWidth&quot;: &quot;100%&quot;,\n});\n\n        \n            \n                var html_9dee98a2c3726c4ac1e1a38b092646e0 = $(`&lt;div id=&quot;html_9dee98a2c3726c4ac1e1a38b092646e0&quot; style=&quot;width: 100.0%; height: 100.0%;&quot;&gt;VAFB SLC-4E&lt;/div&gt;`)[0];\n                popup_c0823567186cb7e9bbf5a90f5ced28e3.setContent(html_9dee98a2c3726c4ac1e1a38b092646e0);\n            \n        \n\n        marker_89ec4ed0ad6f29637022083ea298c970.bindPopup(popup_c0823567186cb7e9bbf5a90f5ced28e3)\n        ;\n\n        \n    \n    \n            var marker_94de9726d16a1ab42342c21e224546a6 = L.marker(\n                [34.63283416, -120.6107455],\n                {\n}\n            ).addTo(map_1c634f5936b18df97fc45ad7d2b1299c);\n        \n    \n        var popup_b6cd7a3d7a95c4c64bff24e27ade2554 = L.popup({\n  &quot;maxWidth&quot;: &quot;100%&quot;,\n});\n\n        \n            \n                var html_aa86aad6493be1a7a78b9adcd683be15 = $(`&lt;div id=&quot;html_aa86aad6493be1a7a78b9adcd683be15&quot; style=&quot;width: 100.0%; height: 100.0%;&quot;&gt;VAFB SLC-4E&lt;/div&gt;`)[0];\n                popup_b6cd7a3d7a95c4c64bff24e27ade2554.setContent(html_aa86aad6493be1a7a78b9adcd683be15);\n            \n        \n\n        marker_94de9726d16a1ab42342c21e224546a6.bindPopup(popup_b6cd7a3d7a95c4c64bff24e27ade2554)\n        ;\n\n        \n    \n    \n            var marker_0d4bc5bbfe24fb1617f6e91f138b8210 = L.marker(\n                [34.63283416, -120.6107455],\n                {\n}\n            ).addTo(map_1c634f5936b18df97fc45ad7d2b1299c);\n        \n    \n        var popup_aa660eb0d105e41d8bb1c760c52343e2 = L.popup({\n  &quot;maxWidth&quot;: &quot;100%&quot;,\n});\n\n        \n            \n                var html_f8f758399688a42d48d0595a2dae3a1b = $(`&lt;div id=&quot;html_f8f758399688a42d48d0595a2dae3a1b&quot; style=&quot;width: 100.0%; height: 100.0%;&quot;&gt;VAFB SLC-4E&lt;/div&gt;`)[0];\n                popup_aa660eb0d105e41d8bb1c760c52343e2.setContent(html_f8f758399688a42d48d0595a2dae3a1b);\n            \n        \n\n        marker_0d4bc5bbfe24fb1617f6e91f138b8210.bindPopup(popup_aa660eb0d105e41d8bb1c760c52343e2)\n        ;\n\n        \n    \n    \n            var marker_5c1d4fdac221cbecd3a71d4f2e136353 = L.marker(\n                [34.63283416, -120.6107455],\n                {\n}\n            ).addTo(map_1c634f5936b18df97fc45ad7d2b1299c);\n        \n    \n        var popup_483c2f5eac09b00db8740a15aa77872f = L.popup({\n  &quot;maxWidth&quot;: &quot;100%&quot;,\n});\n\n        \n            \n                var html_f67b879459ae15c472afc5db84fc9150 = $(`&lt;div id=&quot;html_f67b879459ae15c472afc5db84fc9150&quot; style=&quot;width: 100.0%; height: 100.0%;&quot;&gt;VAFB SLC-4E&lt;/div&gt;`)[0];\n                popup_483c2f5eac09b00db8740a15aa77872f.setContent(html_f67b879459ae15c472afc5db84fc9150);\n            \n        \n\n        marker_5c1d4fdac221cbecd3a71d4f2e136353.bindPopup(popup_483c2f5eac09b00db8740a15aa77872f)\n        ;\n\n        \n    \n    \n            var marker_56c41cd00a652092899148ce9dc915bd = L.marker(\n                [34.63283416, -120.6107455],\n                {\n}\n            ).addTo(map_1c634f5936b18df97fc45ad7d2b1299c);\n        \n    \n        var popup_bf39c110a1374d9a176e801620b33829 = L.popup({\n  &quot;maxWidth&quot;: &quot;100%&quot;,\n});\n\n        \n            \n                var html_e90b095a3280415847acd0d2584ba68f = $(`&lt;div id=&quot;html_e90b095a3280415847acd0d2584ba68f&quot; style=&quot;width: 100.0%; height: 100.0%;&quot;&gt;VAFB SLC-4E&lt;/div&gt;`)[0];\n                popup_bf39c110a1374d9a176e801620b33829.setContent(html_e90b095a3280415847acd0d2584ba68f);\n            \n        \n\n        marker_56c41cd00a652092899148ce9dc915bd.bindPopup(popup_bf39c110a1374d9a176e801620b33829)\n        ;\n\n        \n    \n    \n            var marker_7857928f90730f739c6318469fb023c1 = L.marker(\n                [34.63283416, -120.6107455],\n                {\n}\n            ).addTo(map_1c634f5936b18df97fc45ad7d2b1299c);\n        \n    \n        var popup_28c8ebd130a83797d5d2c3eb1954c601 = L.popup({\n  &quot;maxWidth&quot;: &quot;100%&quot;,\n});\n\n        \n            \n                var html_f88f2a9b010ebdc483718322053a8ddd = $(`&lt;div id=&quot;html_f88f2a9b010ebdc483718322053a8ddd&quot; style=&quot;width: 100.0%; height: 100.0%;&quot;&gt;VAFB SLC-4E&lt;/div&gt;`)[0];\n                popup_28c8ebd130a83797d5d2c3eb1954c601.setContent(html_f88f2a9b010ebdc483718322053a8ddd);\n            \n        \n\n        marker_7857928f90730f739c6318469fb023c1.bindPopup(popup_28c8ebd130a83797d5d2c3eb1954c601)\n        ;\n\n        \n    \n    \n            var marker_3a5cfeb5b3d5fa6e4554814445a14c91 = L.marker(\n                [34.63283416, -120.6107455],\n                {\n}\n            ).addTo(map_1c634f5936b18df97fc45ad7d2b1299c);\n        \n    \n        var popup_99f2f4829121c2ec5957dbe25ae2ff2c = L.popup({\n  &quot;maxWidth&quot;: &quot;100%&quot;,\n});\n\n        \n            \n                var html_40f4ab7fef75283602cd9ab42b2971be = $(`&lt;div id=&quot;html_40f4ab7fef75283602cd9ab42b2971be&quot; style=&quot;width: 100.0%; height: 100.0%;&quot;&gt;VAFB SLC-4E&lt;/div&gt;`)[0];\n                popup_99f2f4829121c2ec5957dbe25ae2ff2c.setContent(html_40f4ab7fef75283602cd9ab42b2971be);\n            \n        \n\n        marker_3a5cfeb5b3d5fa6e4554814445a14c91.bindPopup(popup_99f2f4829121c2ec5957dbe25ae2ff2c)\n        ;\n\n        \n    \n    \n            var marker_b5d1b2a92ea281395974575c28d9deb2 = L.marker(\n                [28.57325457, -80.64689529],\n                {\n}\n            ).addTo(map_1c634f5936b18df97fc45ad7d2b1299c);\n        \n    \n        var popup_4a5f11c86f316d6adef01cf198cd7668 = L.popup({\n  &quot;maxWidth&quot;: &quot;100%&quot;,\n});\n\n        \n            \n                var html_97464dbd1a456ff77c06bbc293a2927b = $(`&lt;div id=&quot;html_97464dbd1a456ff77c06bbc293a2927b&quot; style=&quot;width: 100.0%; height: 100.0%;&quot;&gt;KSC LC-39A&lt;/div&gt;`)[0];\n                popup_4a5f11c86f316d6adef01cf198cd7668.setContent(html_97464dbd1a456ff77c06bbc293a2927b);\n            \n        \n\n        marker_b5d1b2a92ea281395974575c28d9deb2.bindPopup(popup_4a5f11c86f316d6adef01cf198cd7668)\n        ;\n\n        \n    \n    \n            var marker_e8b7446ff72d3d2f2b346d8709255828 = L.marker(\n                [28.57325457, -80.64689529],\n                {\n}\n            ).addTo(map_1c634f5936b18df97fc45ad7d2b1299c);\n        \n    \n        var popup_f7bf1a68727bce7a93c19a02a073f7e0 = L.popup({\n  &quot;maxWidth&quot;: &quot;100%&quot;,\n});\n\n        \n            \n                var html_a2242200f328aeb7b7b93dd0bf0e1c26 = $(`&lt;div id=&quot;html_a2242200f328aeb7b7b93dd0bf0e1c26&quot; style=&quot;width: 100.0%; height: 100.0%;&quot;&gt;KSC LC-39A&lt;/div&gt;`)[0];\n                popup_f7bf1a68727bce7a93c19a02a073f7e0.setContent(html_a2242200f328aeb7b7b93dd0bf0e1c26);\n            \n        \n\n        marker_e8b7446ff72d3d2f2b346d8709255828.bindPopup(popup_f7bf1a68727bce7a93c19a02a073f7e0)\n        ;\n\n        \n    \n    \n            var marker_64b5310d79a69796c830c55c1d1bec5e = L.marker(\n                [28.57325457, -80.64689529],\n                {\n}\n            ).addTo(map_1c634f5936b18df97fc45ad7d2b1299c);\n        \n    \n        var popup_47c95603595ebd3ee43d15a3866094c3 = L.popup({\n  &quot;maxWidth&quot;: &quot;100%&quot;,\n});\n\n        \n            \n                var html_ba503d3161dc7757f3d4cbcd93a777cb = $(`&lt;div id=&quot;html_ba503d3161dc7757f3d4cbcd93a777cb&quot; style=&quot;width: 100.0%; height: 100.0%;&quot;&gt;KSC LC-39A&lt;/div&gt;`)[0];\n                popup_47c95603595ebd3ee43d15a3866094c3.setContent(html_ba503d3161dc7757f3d4cbcd93a777cb);\n            \n        \n\n        marker_64b5310d79a69796c830c55c1d1bec5e.bindPopup(popup_47c95603595ebd3ee43d15a3866094c3)\n        ;\n\n        \n    \n    \n            var marker_d6d79cf1ba6e2bc46d297b93a8acaf10 = L.marker(\n                [28.57325457, -80.64689529],\n                {\n}\n            ).addTo(map_1c634f5936b18df97fc45ad7d2b1299c);\n        \n    \n        var popup_e2539818b77aa1db0d72123b4c7d235e = L.popup({\n  &quot;maxWidth&quot;: &quot;100%&quot;,\n});\n\n        \n            \n                var html_ea2aa67b5c90dac285b4f39833f29679 = $(`&lt;div id=&quot;html_ea2aa67b5c90dac285b4f39833f29679&quot; style=&quot;width: 100.0%; height: 100.0%;&quot;&gt;KSC LC-39A&lt;/div&gt;`)[0];\n                popup_e2539818b77aa1db0d72123b4c7d235e.setContent(html_ea2aa67b5c90dac285b4f39833f29679);\n            \n        \n\n        marker_d6d79cf1ba6e2bc46d297b93a8acaf10.bindPopup(popup_e2539818b77aa1db0d72123b4c7d235e)\n        ;\n\n        \n    \n    \n            var marker_9b689efed6e18b2d753f5285e6bffa3b = L.marker(\n                [28.57325457, -80.64689529],\n                {\n}\n            ).addTo(map_1c634f5936b18df97fc45ad7d2b1299c);\n        \n    \n        var popup_8fbb90b52aceea865ddd628cd7974ce1 = L.popup({\n  &quot;maxWidth&quot;: &quot;100%&quot;,\n});\n\n        \n            \n                var html_badcc0164f127273b0a005d313f41d75 = $(`&lt;div id=&quot;html_badcc0164f127273b0a005d313f41d75&quot; style=&quot;width: 100.0%; height: 100.0%;&quot;&gt;KSC LC-39A&lt;/div&gt;`)[0];\n                popup_8fbb90b52aceea865ddd628cd7974ce1.setContent(html_badcc0164f127273b0a005d313f41d75);\n            \n        \n\n        marker_9b689efed6e18b2d753f5285e6bffa3b.bindPopup(popup_8fbb90b52aceea865ddd628cd7974ce1)\n        ;\n\n        \n    \n    \n            var marker_737b98691b61f03e1e7162048dc4262e = L.marker(\n                [28.57325457, -80.64689529],\n                {\n}\n            ).addTo(map_1c634f5936b18df97fc45ad7d2b1299c);\n        \n    \n        var popup_785ee07678ff14c2861f5b9c82048fa4 = L.popup({\n  &quot;maxWidth&quot;: &quot;100%&quot;,\n});\n\n        \n            \n                var html_8319c095375c8f3164cd350a401bb859 = $(`&lt;div id=&quot;html_8319c095375c8f3164cd350a401bb859&quot; style=&quot;width: 100.0%; height: 100.0%;&quot;&gt;KSC LC-39A&lt;/div&gt;`)[0];\n                popup_785ee07678ff14c2861f5b9c82048fa4.setContent(html_8319c095375c8f3164cd350a401bb859);\n            \n        \n\n        marker_737b98691b61f03e1e7162048dc4262e.bindPopup(popup_785ee07678ff14c2861f5b9c82048fa4)\n        ;\n\n        \n    \n    \n            var marker_ce29fe8e0db88925dc712b07ed3fcdcb = L.marker(\n                [28.57325457, -80.64689529],\n                {\n}\n            ).addTo(map_1c634f5936b18df97fc45ad7d2b1299c);\n        \n    \n        var popup_76c36a840044e8d8d20060ad4b530cb1 = L.popup({\n  &quot;maxWidth&quot;: &quot;100%&quot;,\n});\n\n        \n            \n                var html_52c147adcdfad0cc7b80715d906227fa = $(`&lt;div id=&quot;html_52c147adcdfad0cc7b80715d906227fa&quot; style=&quot;width: 100.0%; height: 100.0%;&quot;&gt;KSC LC-39A&lt;/div&gt;`)[0];\n                popup_76c36a840044e8d8d20060ad4b530cb1.setContent(html_52c147adcdfad0cc7b80715d906227fa);\n            \n        \n\n        marker_ce29fe8e0db88925dc712b07ed3fcdcb.bindPopup(popup_76c36a840044e8d8d20060ad4b530cb1)\n        ;\n\n        \n    \n    \n            var marker_7d0394fdc56d08349104b77b03aaf3e3 = L.marker(\n                [28.57325457, -80.64689529],\n                {\n}\n            ).addTo(map_1c634f5936b18df97fc45ad7d2b1299c);\n        \n    \n        var popup_57cd2ae0dc8c978f02e0c6519ed187d1 = L.popup({\n  &quot;maxWidth&quot;: &quot;100%&quot;,\n});\n\n        \n            \n                var html_c5c4fd88d13f86f49e59d90ee187c3e0 = $(`&lt;div id=&quot;html_c5c4fd88d13f86f49e59d90ee187c3e0&quot; style=&quot;width: 100.0%; height: 100.0%;&quot;&gt;KSC LC-39A&lt;/div&gt;`)[0];\n                popup_57cd2ae0dc8c978f02e0c6519ed187d1.setContent(html_c5c4fd88d13f86f49e59d90ee187c3e0);\n            \n        \n\n        marker_7d0394fdc56d08349104b77b03aaf3e3.bindPopup(popup_57cd2ae0dc8c978f02e0c6519ed187d1)\n        ;\n\n        \n    \n    \n            var marker_04f8da600d9ac6969beed05b65675408 = L.marker(\n                [28.57325457, -80.64689529],\n                {\n}\n            ).addTo(map_1c634f5936b18df97fc45ad7d2b1299c);\n        \n    \n        var popup_b6da09b9c8cdcb0a823fd4a85e1e7329 = L.popup({\n  &quot;maxWidth&quot;: &quot;100%&quot;,\n});\n\n        \n            \n                var html_1d9aab96dda5628b2570324d1bb06a4a = $(`&lt;div id=&quot;html_1d9aab96dda5628b2570324d1bb06a4a&quot; style=&quot;width: 100.0%; height: 100.0%;&quot;&gt;KSC LC-39A&lt;/div&gt;`)[0];\n                popup_b6da09b9c8cdcb0a823fd4a85e1e7329.setContent(html_1d9aab96dda5628b2570324d1bb06a4a);\n            \n        \n\n        marker_04f8da600d9ac6969beed05b65675408.bindPopup(popup_b6da09b9c8cdcb0a823fd4a85e1e7329)\n        ;\n\n        \n    \n    \n            var marker_767e80f682fe6165e036c26d111f05c3 = L.marker(\n                [28.57325457, -80.64689529],\n                {\n}\n            ).addTo(map_1c634f5936b18df97fc45ad7d2b1299c);\n        \n    \n        var popup_53c3066d5b6b2257a0f2bd7d4a32ea6d = L.popup({\n  &quot;maxWidth&quot;: &quot;100%&quot;,\n});\n\n        \n            \n                var html_c6399fece995fd5e2b88668a1be566b7 = $(`&lt;div id=&quot;html_c6399fece995fd5e2b88668a1be566b7&quot; style=&quot;width: 100.0%; height: 100.0%;&quot;&gt;KSC LC-39A&lt;/div&gt;`)[0];\n                popup_53c3066d5b6b2257a0f2bd7d4a32ea6d.setContent(html_c6399fece995fd5e2b88668a1be566b7);\n            \n        \n\n        marker_767e80f682fe6165e036c26d111f05c3.bindPopup(popup_53c3066d5b6b2257a0f2bd7d4a32ea6d)\n        ;\n\n        \n    \n    \n            var marker_524a2e497be61f67592711eed83d11b1 = L.marker(\n                [28.57325457, -80.64689529],\n                {\n}\n            ).addTo(map_1c634f5936b18df97fc45ad7d2b1299c);\n        \n    \n        var popup_7135706440ecd5efe3e87e0b08c5deff = L.popup({\n  &quot;maxWidth&quot;: &quot;100%&quot;,\n});\n\n        \n            \n                var html_ed6fba7d97048fe2b7c764b1d65bad7f = $(`&lt;div id=&quot;html_ed6fba7d97048fe2b7c764b1d65bad7f&quot; style=&quot;width: 100.0%; height: 100.0%;&quot;&gt;KSC LC-39A&lt;/div&gt;`)[0];\n                popup_7135706440ecd5efe3e87e0b08c5deff.setContent(html_ed6fba7d97048fe2b7c764b1d65bad7f);\n            \n        \n\n        marker_524a2e497be61f67592711eed83d11b1.bindPopup(popup_7135706440ecd5efe3e87e0b08c5deff)\n        ;\n\n        \n    \n    \n            var marker_a6aded76d701e2dd50b5708af8827534 = L.marker(\n                [28.57325457, -80.64689529],\n                {\n}\n            ).addTo(map_1c634f5936b18df97fc45ad7d2b1299c);\n        \n    \n        var popup_9534f4f5f9f289719bc6d9c80db4ac60 = L.popup({\n  &quot;maxWidth&quot;: &quot;100%&quot;,\n});\n\n        \n            \n                var html_3f64b9c85b433b0a4b093ba57b029847 = $(`&lt;div id=&quot;html_3f64b9c85b433b0a4b093ba57b029847&quot; style=&quot;width: 100.0%; height: 100.0%;&quot;&gt;KSC LC-39A&lt;/div&gt;`)[0];\n                popup_9534f4f5f9f289719bc6d9c80db4ac60.setContent(html_3f64b9c85b433b0a4b093ba57b029847);\n            \n        \n\n        marker_a6aded76d701e2dd50b5708af8827534.bindPopup(popup_9534f4f5f9f289719bc6d9c80db4ac60)\n        ;\n\n        \n    \n    \n            var marker_a95a951f1f9b8547e2cb2d3e72ea1491 = L.marker(\n                [28.57325457, -80.64689529],\n                {\n}\n            ).addTo(map_1c634f5936b18df97fc45ad7d2b1299c);\n        \n    \n        var popup_6d4d6cccb5be5be975d1675ab55b5e54 = L.popup({\n  &quot;maxWidth&quot;: &quot;100%&quot;,\n});\n\n        \n            \n                var html_6635b019a2faff6ac09ab50249ea2c5f = $(`&lt;div id=&quot;html_6635b019a2faff6ac09ab50249ea2c5f&quot; style=&quot;width: 100.0%; height: 100.0%;&quot;&gt;KSC LC-39A&lt;/div&gt;`)[0];\n                popup_6d4d6cccb5be5be975d1675ab55b5e54.setContent(html_6635b019a2faff6ac09ab50249ea2c5f);\n            \n        \n\n        marker_a95a951f1f9b8547e2cb2d3e72ea1491.bindPopup(popup_6d4d6cccb5be5be975d1675ab55b5e54)\n        ;\n\n        \n    \n    \n            var marker_3fe34e93c4a8482f1dcd15c38e858f09 = L.marker(\n                [28.56319718, -80.57682003],\n                {\n}\n            ).addTo(map_1c634f5936b18df97fc45ad7d2b1299c);\n        \n    \n        var popup_ce16091bc46014259a12306ee86cde1d = L.popup({\n  &quot;maxWidth&quot;: &quot;100%&quot;,\n});\n\n        \n            \n                var html_2f90bab979b2271f038c07461cd7f41b = $(`&lt;div id=&quot;html_2f90bab979b2271f038c07461cd7f41b&quot; style=&quot;width: 100.0%; height: 100.0%;&quot;&gt;CCAFS SLC-40&lt;/div&gt;`)[0];\n                popup_ce16091bc46014259a12306ee86cde1d.setContent(html_2f90bab979b2271f038c07461cd7f41b);\n            \n        \n\n        marker_3fe34e93c4a8482f1dcd15c38e858f09.bindPopup(popup_ce16091bc46014259a12306ee86cde1d)\n        ;\n\n        \n    \n    \n            var marker_5403ca44d300594c8e2e794887d07fb7 = L.marker(\n                [28.56319718, -80.57682003],\n                {\n}\n            ).addTo(map_1c634f5936b18df97fc45ad7d2b1299c);\n        \n    \n        var popup_4612d3d8bd3eb627b23f030835bb5fce = L.popup({\n  &quot;maxWidth&quot;: &quot;100%&quot;,\n});\n\n        \n            \n                var html_2121ff572e04bdf7c4e8565b63db7575 = $(`&lt;div id=&quot;html_2121ff572e04bdf7c4e8565b63db7575&quot; style=&quot;width: 100.0%; height: 100.0%;&quot;&gt;CCAFS SLC-40&lt;/div&gt;`)[0];\n                popup_4612d3d8bd3eb627b23f030835bb5fce.setContent(html_2121ff572e04bdf7c4e8565b63db7575);\n            \n        \n\n        marker_5403ca44d300594c8e2e794887d07fb7.bindPopup(popup_4612d3d8bd3eb627b23f030835bb5fce)\n        ;\n\n        \n    \n    \n            var marker_d016e5116d859b8c103bf816fc68c3bb = L.marker(\n                [28.56319718, -80.57682003],\n                {\n}\n            ).addTo(map_1c634f5936b18df97fc45ad7d2b1299c);\n        \n    \n        var popup_e2bd866797ac6b0f982c0268a0919de1 = L.popup({\n  &quot;maxWidth&quot;: &quot;100%&quot;,\n});\n\n        \n            \n                var html_9d10e8e5dc94fb7e786948721bbd4180 = $(`&lt;div id=&quot;html_9d10e8e5dc94fb7e786948721bbd4180&quot; style=&quot;width: 100.0%; height: 100.0%;&quot;&gt;CCAFS SLC-40&lt;/div&gt;`)[0];\n                popup_e2bd866797ac6b0f982c0268a0919de1.setContent(html_9d10e8e5dc94fb7e786948721bbd4180);\n            \n        \n\n        marker_d016e5116d859b8c103bf816fc68c3bb.bindPopup(popup_e2bd866797ac6b0f982c0268a0919de1)\n        ;\n\n        \n    \n    \n            var marker_d0009e8025af60860dd8316f285c9162 = L.marker(\n                [28.56319718, -80.57682003],\n                {\n}\n            ).addTo(map_1c634f5936b18df97fc45ad7d2b1299c);\n        \n    \n        var popup_67699cce99d3e1b89f3899c51c247e1f = L.popup({\n  &quot;maxWidth&quot;: &quot;100%&quot;,\n});\n\n        \n            \n                var html_1db4d22526b3d9d707a7fbfd7e88fb08 = $(`&lt;div id=&quot;html_1db4d22526b3d9d707a7fbfd7e88fb08&quot; style=&quot;width: 100.0%; height: 100.0%;&quot;&gt;CCAFS SLC-40&lt;/div&gt;`)[0];\n                popup_67699cce99d3e1b89f3899c51c247e1f.setContent(html_1db4d22526b3d9d707a7fbfd7e88fb08);\n            \n        \n\n        marker_d0009e8025af60860dd8316f285c9162.bindPopup(popup_67699cce99d3e1b89f3899c51c247e1f)\n        ;\n\n        \n    \n    \n            var marker_31fb1f9a301cedcb986e071418de60ba = L.marker(\n                [28.56319718, -80.57682003],\n                {\n}\n            ).addTo(map_1c634f5936b18df97fc45ad7d2b1299c);\n        \n    \n        var popup_5ce5abd371d2b3e06a430a80c323cde4 = L.popup({\n  &quot;maxWidth&quot;: &quot;100%&quot;,\n});\n\n        \n            \n                var html_d2f1e343a75c77ae6c66eb18ad7f5fb1 = $(`&lt;div id=&quot;html_d2f1e343a75c77ae6c66eb18ad7f5fb1&quot; style=&quot;width: 100.0%; height: 100.0%;&quot;&gt;CCAFS SLC-40&lt;/div&gt;`)[0];\n                popup_5ce5abd371d2b3e06a430a80c323cde4.setContent(html_d2f1e343a75c77ae6c66eb18ad7f5fb1);\n            \n        \n\n        marker_31fb1f9a301cedcb986e071418de60ba.bindPopup(popup_5ce5abd371d2b3e06a430a80c323cde4)\n        ;\n\n        \n    \n    \n            var marker_13eae1766105719d4208310b2bcde338 = L.marker(\n                [28.56319718, -80.57682003],\n                {\n}\n            ).addTo(map_1c634f5936b18df97fc45ad7d2b1299c);\n        \n    \n        var popup_f28ab7893b28981678fe59ccdad6eed2 = L.popup({\n  &quot;maxWidth&quot;: &quot;100%&quot;,\n});\n\n        \n            \n                var html_39f5ec879cb8ea572a621a326e86d444 = $(`&lt;div id=&quot;html_39f5ec879cb8ea572a621a326e86d444&quot; style=&quot;width: 100.0%; height: 100.0%;&quot;&gt;CCAFS SLC-40&lt;/div&gt;`)[0];\n                popup_f28ab7893b28981678fe59ccdad6eed2.setContent(html_39f5ec879cb8ea572a621a326e86d444);\n            \n        \n\n        marker_13eae1766105719d4208310b2bcde338.bindPopup(popup_f28ab7893b28981678fe59ccdad6eed2)\n        ;\n\n        \n    \n    \n            var marker_f036f59f4f9edcf2fb461b507d597951 = L.marker(\n                [28.56319718, -80.57682003],\n                {\n}\n            ).addTo(map_1c634f5936b18df97fc45ad7d2b1299c);\n        \n    \n        var popup_0f95b0c77b3d925f252910e68bd6c351 = L.popup({\n  &quot;maxWidth&quot;: &quot;100%&quot;,\n});\n\n        \n            \n                var html_0d22d13b4fb83889af658cab23a7928e = $(`&lt;div id=&quot;html_0d22d13b4fb83889af658cab23a7928e&quot; style=&quot;width: 100.0%; height: 100.0%;&quot;&gt;CCAFS SLC-40&lt;/div&gt;`)[0];\n                popup_0f95b0c77b3d925f252910e68bd6c351.setContent(html_0d22d13b4fb83889af658cab23a7928e);\n            \n        \n\n        marker_f036f59f4f9edcf2fb461b507d597951.bindPopup(popup_0f95b0c77b3d925f252910e68bd6c351)\n        ;\n\n        \n    \n&lt;/script&gt;\n&lt;/html&gt;\" style=\"position:absolute;width:100%;height:100%;left:0;top:0;border:none !important;\" allowfullscreen webkitallowfullscreen mozallowfullscreen></iframe></div></div>"
          },
          "metadata": {}
        }
      ],
      "execution_count": 54
    },
    {
      "cell_type": "markdown",
      "source": "Next, let's try to enhance the map by adding the launch outcomes for each site, and see which sites have high success rates.\nRecall that data frame spacex_df has detailed launch records, and the `class` column indicates if this launch was successful or not\n",
      "metadata": {}
    },
    {
      "cell_type": "code",
      "source": "spacex_df.tail(10)",
      "metadata": {
        "trusted": true
      },
      "outputs": [
        {
          "execution_count": 13,
          "output_type": "execute_result",
          "data": {
            "text/plain": "     Launch Site        Lat       Long  class\n46    KSC LC-39A  28.573255 -80.646895      1\n47    KSC LC-39A  28.573255 -80.646895      1\n48    KSC LC-39A  28.573255 -80.646895      1\n49  CCAFS SLC-40  28.563197 -80.576820      1\n50  CCAFS SLC-40  28.563197 -80.576820      1\n51  CCAFS SLC-40  28.563197 -80.576820      0\n52  CCAFS SLC-40  28.563197 -80.576820      0\n53  CCAFS SLC-40  28.563197 -80.576820      0\n54  CCAFS SLC-40  28.563197 -80.576820      1\n55  CCAFS SLC-40  28.563197 -80.576820      0",
            "text/html": "<div>\n<style scoped>\n    .dataframe tbody tr th:only-of-type {\n        vertical-align: middle;\n    }\n\n    .dataframe tbody tr th {\n        vertical-align: top;\n    }\n\n    .dataframe thead th {\n        text-align: right;\n    }\n</style>\n<table border=\"1\" class=\"dataframe\">\n  <thead>\n    <tr style=\"text-align: right;\">\n      <th></th>\n      <th>Launch Site</th>\n      <th>Lat</th>\n      <th>Long</th>\n      <th>class</th>\n    </tr>\n  </thead>\n  <tbody>\n    <tr>\n      <th>46</th>\n      <td>KSC LC-39A</td>\n      <td>28.573255</td>\n      <td>-80.646895</td>\n      <td>1</td>\n    </tr>\n    <tr>\n      <th>47</th>\n      <td>KSC LC-39A</td>\n      <td>28.573255</td>\n      <td>-80.646895</td>\n      <td>1</td>\n    </tr>\n    <tr>\n      <th>48</th>\n      <td>KSC LC-39A</td>\n      <td>28.573255</td>\n      <td>-80.646895</td>\n      <td>1</td>\n    </tr>\n    <tr>\n      <th>49</th>\n      <td>CCAFS SLC-40</td>\n      <td>28.563197</td>\n      <td>-80.576820</td>\n      <td>1</td>\n    </tr>\n    <tr>\n      <th>50</th>\n      <td>CCAFS SLC-40</td>\n      <td>28.563197</td>\n      <td>-80.576820</td>\n      <td>1</td>\n    </tr>\n    <tr>\n      <th>51</th>\n      <td>CCAFS SLC-40</td>\n      <td>28.563197</td>\n      <td>-80.576820</td>\n      <td>0</td>\n    </tr>\n    <tr>\n      <th>52</th>\n      <td>CCAFS SLC-40</td>\n      <td>28.563197</td>\n      <td>-80.576820</td>\n      <td>0</td>\n    </tr>\n    <tr>\n      <th>53</th>\n      <td>CCAFS SLC-40</td>\n      <td>28.563197</td>\n      <td>-80.576820</td>\n      <td>0</td>\n    </tr>\n    <tr>\n      <th>54</th>\n      <td>CCAFS SLC-40</td>\n      <td>28.563197</td>\n      <td>-80.576820</td>\n      <td>1</td>\n    </tr>\n    <tr>\n      <th>55</th>\n      <td>CCAFS SLC-40</td>\n      <td>28.563197</td>\n      <td>-80.576820</td>\n      <td>0</td>\n    </tr>\n  </tbody>\n</table>\n</div>"
          },
          "metadata": {}
        }
      ],
      "execution_count": 13
    },
    {
      "cell_type": "markdown",
      "source": "Next, let's create markers for all launch records.\nIf a launch was successful `(class=1)`, then we use a green marker and if a launch was failed, we use a red marker `(class=0)`\n",
      "metadata": {}
    },
    {
      "cell_type": "markdown",
      "source": "Note that a launch only happens in one of the four launch sites, which means many launch records will have the exact same coordinate. Marker clusters can be a good way to simplify a map containing many markers having the same coordinate.\n",
      "metadata": {}
    },
    {
      "cell_type": "markdown",
      "source": "Let's first create a `MarkerCluster` object\n",
      "metadata": {}
    },
    {
      "cell_type": "code",
      "source": "marker_cluster = MarkerCluster()\n",
      "metadata": {
        "trusted": true
      },
      "outputs": [],
      "execution_count": 55
    },
    {
      "cell_type": "markdown",
      "source": "*TODO:* Create a new column in `spacex_df` dataframe called `marker_color` to store the marker colors based on the `class` value\n",
      "metadata": {}
    },
    {
      "cell_type": "code",
      "source": "\n# Apply a function to check the value of `class` column\n# If class=1, marker_color value will be green\n# If class=0, marker_color value will be red",
      "metadata": {
        "trusted": true
      },
      "outputs": [],
      "execution_count": 15
    },
    {
      "cell_type": "markdown",
      "source": "*TODO:* For each launch result in `spacex_df` data frame, add a `folium.Marker` to `marker_cluster`\n",
      "metadata": {}
    },
    {
      "cell_type": "code",
      "source": "# Add marker_cluster to current site_map\nsite_map.add_child(marker_cluster)\n\n# for each row in spacex_df data frame\n# create a Marker object with its coordinate\n# and customize the Marker's icon property to indicate if this launch was successed or failed, \n# e.g., icon=folium.Icon(color='white', icon_color=row['marker_color']\nfor index, record in spacex_df.iterrows():\n    # TODO: Create and add a Marker cluster to the site map\n    # marker = folium.Marker(...)\n    marker_cluster.add_child(marker)\n\nsite_map",
      "metadata": {
        "trusted": true
      },
      "outputs": [
        {
          "execution_count": 16,
          "output_type": "execute_result",
          "data": {
            "text/plain": "<folium.folium.Map at 0x490e850>",
            "text/html": "<div style=\"width:100%;\"><div style=\"position:relative;width:100%;height:0;padding-bottom:60%;\"><span style=\"color:#565656\">Make this Notebook Trusted to load map: File -> Trust Notebook</span><iframe srcdoc=\"&lt;!DOCTYPE html&gt;\n&lt;html&gt;\n&lt;head&gt;\n    \n    &lt;meta http-equiv=&quot;content-type&quot; content=&quot;text/html; charset=UTF-8&quot; /&gt;\n    \n        &lt;script&gt;\n            L_NO_TOUCH = false;\n            L_DISABLE_3D = false;\n        &lt;/script&gt;\n    \n    &lt;style&gt;html, body {width: 100%;height: 100%;margin: 0;padding: 0;}&lt;/style&gt;\n    &lt;style&gt;#map {position:absolute;top:0;bottom:0;right:0;left:0;}&lt;/style&gt;\n    &lt;script src=&quot;https://cdn.jsdelivr.net/npm/leaflet@1.9.3/dist/leaflet.js&quot;&gt;&lt;/script&gt;\n    &lt;script src=&quot;https://code.jquery.com/jquery-3.7.1.min.js&quot;&gt;&lt;/script&gt;\n    &lt;script src=&quot;https://cdn.jsdelivr.net/npm/bootstrap@5.2.2/dist/js/bootstrap.bundle.min.js&quot;&gt;&lt;/script&gt;\n    &lt;script src=&quot;https://cdnjs.cloudflare.com/ajax/libs/Leaflet.awesome-markers/2.0.2/leaflet.awesome-markers.js&quot;&gt;&lt;/script&gt;\n    &lt;link rel=&quot;stylesheet&quot; href=&quot;https://cdn.jsdelivr.net/npm/leaflet@1.9.3/dist/leaflet.css&quot;/&gt;\n    &lt;link rel=&quot;stylesheet&quot; href=&quot;https://cdn.jsdelivr.net/npm/bootstrap@5.2.2/dist/css/bootstrap.min.css&quot;/&gt;\n    &lt;link rel=&quot;stylesheet&quot; href=&quot;https://netdna.bootstrapcdn.com/bootstrap/3.0.0/css/bootstrap-glyphicons.css&quot;/&gt;\n    &lt;link rel=&quot;stylesheet&quot; href=&quot;https://cdn.jsdelivr.net/npm/@fortawesome/fontawesome-free@6.2.0/css/all.min.css&quot;/&gt;\n    &lt;link rel=&quot;stylesheet&quot; href=&quot;https://cdnjs.cloudflare.com/ajax/libs/Leaflet.awesome-markers/2.0.2/leaflet.awesome-markers.css&quot;/&gt;\n    &lt;link rel=&quot;stylesheet&quot; href=&quot;https://cdn.jsdelivr.net/gh/python-visualization/folium/folium/templates/leaflet.awesome.rotate.min.css&quot;/&gt;\n    \n            &lt;meta name=&quot;viewport&quot; content=&quot;width=device-width,\n                initial-scale=1.0, maximum-scale=1.0, user-scalable=no&quot; /&gt;\n            &lt;style&gt;\n                #map_93530ca23d3a6df944fd0810b70f6d54 {\n                    position: relative;\n                    width: 100.0%;\n                    height: 100.0%;\n                    left: 0.0%;\n                    top: 0.0%;\n                }\n                .leaflet-container { font-size: 1rem; }\n            &lt;/style&gt;\n        \n    &lt;script src=&quot;https://cdnjs.cloudflare.com/ajax/libs/leaflet.markercluster/1.1.0/leaflet.markercluster.js&quot;&gt;&lt;/script&gt;\n    &lt;link rel=&quot;stylesheet&quot; href=&quot;https://cdnjs.cloudflare.com/ajax/libs/leaflet.markercluster/1.1.0/MarkerCluster.css&quot;/&gt;\n    &lt;link rel=&quot;stylesheet&quot; href=&quot;https://cdnjs.cloudflare.com/ajax/libs/leaflet.markercluster/1.1.0/MarkerCluster.Default.css&quot;/&gt;\n&lt;/head&gt;\n&lt;body&gt;\n    \n    \n            &lt;div class=&quot;folium-map&quot; id=&quot;map_93530ca23d3a6df944fd0810b70f6d54&quot; &gt;&lt;/div&gt;\n        \n&lt;/body&gt;\n&lt;script&gt;\n    \n    \n            var map_93530ca23d3a6df944fd0810b70f6d54 = L.map(\n                &quot;map_93530ca23d3a6df944fd0810b70f6d54&quot;,\n                {\n                    center: [29.559684888503615, -95.0830971930759],\n                    crs: L.CRS.EPSG3857,\n                    ...{\n  &quot;zoom&quot;: 5,\n  &quot;zoomControl&quot;: true,\n  &quot;preferCanvas&quot;: false,\n}\n\n                }\n            );\n\n            \n\n        \n    \n            var tile_layer_26e179c6b8d66c210737ae1cfcdc9ce4 = L.tileLayer(\n                &quot;https://tile.openstreetmap.org/{z}/{x}/{y}.png&quot;,\n                {\n  &quot;minZoom&quot;: 0,\n  &quot;maxZoom&quot;: 19,\n  &quot;maxNativeZoom&quot;: 19,\n  &quot;noWrap&quot;: false,\n  &quot;attribution&quot;: &quot;\\u0026copy; \\u003ca href=\\&quot;https://www.openstreetmap.org/copyright\\&quot;\\u003eOpenStreetMap\\u003c/a\\u003e contributors&quot;,\n  &quot;subdomains&quot;: &quot;abc&quot;,\n  &quot;detectRetina&quot;: false,\n  &quot;tms&quot;: false,\n  &quot;opacity&quot;: 1,\n}\n\n            );\n        \n    \n            tile_layer_26e179c6b8d66c210737ae1cfcdc9ce4.addTo(map_93530ca23d3a6df944fd0810b70f6d54);\n        \n    \n            var marker_cluster_7e992bc49dfed44e341e288dae3cb9b3 = L.markerClusterGroup(\n                {\n}\n            );\n        \n    \n            var marker_c6412feaab0be0e08efee064b3a9cc2d = L.marker(\n                [29.559684888503615, -95.0830971930759],\n                {\n}\n            ).addTo(marker_cluster_7e992bc49dfed44e341e288dae3cb9b3);\n        \n    \n            var div_icon_7ca28e7e5d4663826ab821bf6a61a5df = L.divIcon({\n  &quot;html&quot;: &quot;\\u003cdiv style=\\&quot;font-size: 12; color:#d35400;\\&quot;\\u003e\\u003cb\\u003eNASA JSC\\u003c/b\\u003e\\u003c/div\\u003e&quot;,\n  &quot;iconSize&quot;: [20, 20],\n  &quot;iconAnchor&quot;: [0, 0],\n  &quot;className&quot;: &quot;empty&quot;,\n});\n            marker_c6412feaab0be0e08efee064b3a9cc2d.setIcon(div_icon_7ca28e7e5d4663826ab821bf6a61a5df);\n        \n    \n                marker_c6412feaab0be0e08efee064b3a9cc2d.setIcon(div_icon_7ca28e7e5d4663826ab821bf6a61a5df);\n            \n    \n                marker_c6412feaab0be0e08efee064b3a9cc2d.setIcon(div_icon_7ca28e7e5d4663826ab821bf6a61a5df);\n            \n    \n            marker_cluster_7e992bc49dfed44e341e288dae3cb9b3.addTo(map_93530ca23d3a6df944fd0810b70f6d54);\n        \n&lt;/script&gt;\n&lt;/html&gt;\" style=\"position:absolute;width:100%;height:100%;left:0;top:0;border:none !important;\" allowfullscreen webkitallowfullscreen mozallowfullscreen></iframe></div></div>"
          },
          "metadata": {}
        }
      ],
      "execution_count": 16
    },
    {
      "cell_type": "markdown",
      "source": "Your updated map may look like the following screenshots:\n",
      "metadata": {}
    },
    {
      "cell_type": "markdown",
      "source": "<center>\n    <img src=\"https://cf-courses-data.s3.us.cloud-object-storage.appdomain.cloud/IBM-DS0321EN-SkillsNetwork/labs/module_3/images/launch_site_marker_cluster.png\">\n</center>\n",
      "metadata": {}
    },
    {
      "cell_type": "markdown",
      "source": "<center>\n    <img src=\"https://cf-courses-data.s3.us.cloud-object-storage.appdomain.cloud/IBM-DS0321EN-SkillsNetwork/labs/module_3/images/launch_site_marker_cluster_zoomed.png\">\n</center>\n",
      "metadata": {}
    },
    {
      "cell_type": "markdown",
      "source": "From the color-labeled markers in marker clusters, you should be able to easily identify which launch sites have relatively high success rates.\n",
      "metadata": {}
    },
    {
      "cell_type": "code",
      "source": "# TASK 3: Calculate the distances between a launch site to its proximities\n",
      "metadata": {
        "trusted": true
      },
      "outputs": [],
      "execution_count": 17
    },
    {
      "cell_type": "markdown",
      "source": "Next, we need to explore and analyze the proximities of launch sites.\n",
      "metadata": {}
    },
    {
      "cell_type": "markdown",
      "source": "Let's first add a `MousePosition` on the map to get coordinate for a mouse over a point on the map. As such, while you are exploring the map, you can easily find the coordinates of any points of interests (such as railway)\n",
      "metadata": {}
    },
    {
      "cell_type": "code",
      "source": "# Add Mouse Position to get the coordinate (Lat, Long) for a mouse over on the map\nformatter = \"function(num) {return L.Util.formatNum(num, 5);};\"\nmouse_position = MousePosition(\n    position='topright',\n    separator=' Long: ',\n    empty_string='NaN',\n    lng_first=False,\n    num_digits=20,\n    prefix='Lat:',\n    lat_formatter=formatter,\n    lng_formatter=formatter,\n)\n\nsite_map.add_child(mouse_position)\nsite_map",
      "metadata": {
        "trusted": true
      },
      "outputs": [
        {
          "execution_count": 18,
          "output_type": "execute_result",
          "data": {
            "text/plain": "<folium.folium.Map at 0x490e850>",
            "text/html": "<div style=\"width:100%;\"><div style=\"position:relative;width:100%;height:0;padding-bottom:60%;\"><span style=\"color:#565656\">Make this Notebook Trusted to load map: File -> Trust Notebook</span><iframe srcdoc=\"&lt;!DOCTYPE html&gt;\n&lt;html&gt;\n&lt;head&gt;\n    \n    &lt;meta http-equiv=&quot;content-type&quot; content=&quot;text/html; charset=UTF-8&quot; /&gt;\n    \n        &lt;script&gt;\n            L_NO_TOUCH = false;\n            L_DISABLE_3D = false;\n        &lt;/script&gt;\n    \n    &lt;style&gt;html, body {width: 100%;height: 100%;margin: 0;padding: 0;}&lt;/style&gt;\n    &lt;style&gt;#map {position:absolute;top:0;bottom:0;right:0;left:0;}&lt;/style&gt;\n    &lt;script src=&quot;https://cdn.jsdelivr.net/npm/leaflet@1.9.3/dist/leaflet.js&quot;&gt;&lt;/script&gt;\n    &lt;script src=&quot;https://code.jquery.com/jquery-3.7.1.min.js&quot;&gt;&lt;/script&gt;\n    &lt;script src=&quot;https://cdn.jsdelivr.net/npm/bootstrap@5.2.2/dist/js/bootstrap.bundle.min.js&quot;&gt;&lt;/script&gt;\n    &lt;script src=&quot;https://cdnjs.cloudflare.com/ajax/libs/Leaflet.awesome-markers/2.0.2/leaflet.awesome-markers.js&quot;&gt;&lt;/script&gt;\n    &lt;link rel=&quot;stylesheet&quot; href=&quot;https://cdn.jsdelivr.net/npm/leaflet@1.9.3/dist/leaflet.css&quot;/&gt;\n    &lt;link rel=&quot;stylesheet&quot; href=&quot;https://cdn.jsdelivr.net/npm/bootstrap@5.2.2/dist/css/bootstrap.min.css&quot;/&gt;\n    &lt;link rel=&quot;stylesheet&quot; href=&quot;https://netdna.bootstrapcdn.com/bootstrap/3.0.0/css/bootstrap-glyphicons.css&quot;/&gt;\n    &lt;link rel=&quot;stylesheet&quot; href=&quot;https://cdn.jsdelivr.net/npm/@fortawesome/fontawesome-free@6.2.0/css/all.min.css&quot;/&gt;\n    &lt;link rel=&quot;stylesheet&quot; href=&quot;https://cdnjs.cloudflare.com/ajax/libs/Leaflet.awesome-markers/2.0.2/leaflet.awesome-markers.css&quot;/&gt;\n    &lt;link rel=&quot;stylesheet&quot; href=&quot;https://cdn.jsdelivr.net/gh/python-visualization/folium/folium/templates/leaflet.awesome.rotate.min.css&quot;/&gt;\n    \n            &lt;meta name=&quot;viewport&quot; content=&quot;width=device-width,\n                initial-scale=1.0, maximum-scale=1.0, user-scalable=no&quot; /&gt;\n            &lt;style&gt;\n                #map_93530ca23d3a6df944fd0810b70f6d54 {\n                    position: relative;\n                    width: 100.0%;\n                    height: 100.0%;\n                    left: 0.0%;\n                    top: 0.0%;\n                }\n                .leaflet-container { font-size: 1rem; }\n            &lt;/style&gt;\n        \n    &lt;script src=&quot;https://cdnjs.cloudflare.com/ajax/libs/leaflet.markercluster/1.1.0/leaflet.markercluster.js&quot;&gt;&lt;/script&gt;\n    &lt;link rel=&quot;stylesheet&quot; href=&quot;https://cdnjs.cloudflare.com/ajax/libs/leaflet.markercluster/1.1.0/MarkerCluster.css&quot;/&gt;\n    &lt;link rel=&quot;stylesheet&quot; href=&quot;https://cdnjs.cloudflare.com/ajax/libs/leaflet.markercluster/1.1.0/MarkerCluster.Default.css&quot;/&gt;\n    &lt;script src=&quot;https://cdn.jsdelivr.net/gh/ardhi/Leaflet.MousePosition/src/L.Control.MousePosition.min.js&quot;&gt;&lt;/script&gt;\n    &lt;link rel=&quot;stylesheet&quot; href=&quot;https://cdn.jsdelivr.net/gh/ardhi/Leaflet.MousePosition/src/L.Control.MousePosition.min.css&quot;/&gt;\n&lt;/head&gt;\n&lt;body&gt;\n    \n    \n            &lt;div class=&quot;folium-map&quot; id=&quot;map_93530ca23d3a6df944fd0810b70f6d54&quot; &gt;&lt;/div&gt;\n        \n&lt;/body&gt;\n&lt;script&gt;\n    \n    \n            var map_93530ca23d3a6df944fd0810b70f6d54 = L.map(\n                &quot;map_93530ca23d3a6df944fd0810b70f6d54&quot;,\n                {\n                    center: [29.559684888503615, -95.0830971930759],\n                    crs: L.CRS.EPSG3857,\n                    ...{\n  &quot;zoom&quot;: 5,\n  &quot;zoomControl&quot;: true,\n  &quot;preferCanvas&quot;: false,\n}\n\n                }\n            );\n\n            \n\n        \n    \n            var tile_layer_26e179c6b8d66c210737ae1cfcdc9ce4 = L.tileLayer(\n                &quot;https://tile.openstreetmap.org/{z}/{x}/{y}.png&quot;,\n                {\n  &quot;minZoom&quot;: 0,\n  &quot;maxZoom&quot;: 19,\n  &quot;maxNativeZoom&quot;: 19,\n  &quot;noWrap&quot;: false,\n  &quot;attribution&quot;: &quot;\\u0026copy; \\u003ca href=\\&quot;https://www.openstreetmap.org/copyright\\&quot;\\u003eOpenStreetMap\\u003c/a\\u003e contributors&quot;,\n  &quot;subdomains&quot;: &quot;abc&quot;,\n  &quot;detectRetina&quot;: false,\n  &quot;tms&quot;: false,\n  &quot;opacity&quot;: 1,\n}\n\n            );\n        \n    \n            tile_layer_26e179c6b8d66c210737ae1cfcdc9ce4.addTo(map_93530ca23d3a6df944fd0810b70f6d54);\n        \n    \n            var marker_cluster_7e992bc49dfed44e341e288dae3cb9b3 = L.markerClusterGroup(\n                {\n}\n            );\n        \n    \n            var marker_c6412feaab0be0e08efee064b3a9cc2d = L.marker(\n                [29.559684888503615, -95.0830971930759],\n                {\n}\n            ).addTo(marker_cluster_7e992bc49dfed44e341e288dae3cb9b3);\n        \n    \n            var div_icon_7ca28e7e5d4663826ab821bf6a61a5df = L.divIcon({\n  &quot;html&quot;: &quot;\\u003cdiv style=\\&quot;font-size: 12; color:#d35400;\\&quot;\\u003e\\u003cb\\u003eNASA JSC\\u003c/b\\u003e\\u003c/div\\u003e&quot;,\n  &quot;iconSize&quot;: [20, 20],\n  &quot;iconAnchor&quot;: [0, 0],\n  &quot;className&quot;: &quot;empty&quot;,\n});\n            marker_c6412feaab0be0e08efee064b3a9cc2d.setIcon(div_icon_7ca28e7e5d4663826ab821bf6a61a5df);\n        \n    \n                marker_c6412feaab0be0e08efee064b3a9cc2d.setIcon(div_icon_7ca28e7e5d4663826ab821bf6a61a5df);\n            \n    \n                marker_c6412feaab0be0e08efee064b3a9cc2d.setIcon(div_icon_7ca28e7e5d4663826ab821bf6a61a5df);\n            \n    \n            marker_cluster_7e992bc49dfed44e341e288dae3cb9b3.addTo(map_93530ca23d3a6df944fd0810b70f6d54);\n        \n    \n            tile_layer_26e179c6b8d66c210737ae1cfcdc9ce4.addTo(map_93530ca23d3a6df944fd0810b70f6d54);\n        \n    \n                marker_c6412feaab0be0e08efee064b3a9cc2d.setIcon(div_icon_7ca28e7e5d4663826ab821bf6a61a5df);\n            \n    \n            marker_cluster_7e992bc49dfed44e341e288dae3cb9b3.addTo(map_93530ca23d3a6df944fd0810b70f6d54);\n        \n    \n            var mouse_position_b590e4ee9071c721de854e24c8c92e76 = new L.Control.MousePosition(\n                {\n  &quot;position&quot;: &quot;topright&quot;,\n  &quot;separator&quot;: &quot; Long: &quot;,\n  &quot;emptyString&quot;: &quot;NaN&quot;,\n  &quot;lngFirst&quot;: false,\n  &quot;numDigits&quot;: 20,\n  &quot;prefix&quot;: &quot;Lat:&quot;,\n}\n            );\n            mouse_position_b590e4ee9071c721de854e24c8c92e76.options[&quot;latFormatter&quot;] =\n                function(num) {return L.Util.formatNum(num, 5);};;\n            mouse_position_b590e4ee9071c721de854e24c8c92e76.options[&quot;lngFormatter&quot;] =\n                function(num) {return L.Util.formatNum(num, 5);};;\n            map_93530ca23d3a6df944fd0810b70f6d54.addControl(mouse_position_b590e4ee9071c721de854e24c8c92e76);\n        \n&lt;/script&gt;\n&lt;/html&gt;\" style=\"position:absolute;width:100%;height:100%;left:0;top:0;border:none !important;\" allowfullscreen webkitallowfullscreen mozallowfullscreen></iframe></div></div>"
          },
          "metadata": {}
        }
      ],
      "execution_count": 18
    },
    {
      "cell_type": "markdown",
      "source": "Now zoom in to a launch site and explore its proximity to see if you can easily find any railway, highway, coastline, etc. Move your mouse to these points and mark down their coordinates (shown on the top-left) in order to the distance to the launch site.\n",
      "metadata": {}
    },
    {
      "cell_type": "markdown",
      "source": "Now zoom in to a launch site and explore its proximity to see if you can easily find any railway, highway, coastline, etc. Move your mouse to these points and mark down their coordinates (shown on the top-left) in order to the distance to the launch site.\n",
      "metadata": {}
    },
    {
      "cell_type": "code",
      "source": "from math import sin, cos, sqrt, atan2, radians\n\ndef calculate_distance(lat1, lon1, lat2, lon2):\n    # approximate radius of earth in km\n    R = 6373.0\n\n    lat1 = radians(lat1)\n    lon1 = radians(lon1)\n    lat2 = radians(lat2)\n    lon2 = radians(lon2)\n\n    dlon = lon2 - lon1\n    dlat = lat2 - lat1\n\n    a = sin(dlat / 2)**2 + cos(lat1) * cos(lat2) * sin(dlon / 2)**2\n    c = 2 * atan2(sqrt(a), sqrt(1 - a))\n\n    distance = R * c\n    return distance",
      "metadata": {
        "trusted": true
      },
      "outputs": [],
      "execution_count": 19
    },
    {
      "cell_type": "markdown",
      "source": "*TODO:* Mark down a point on the closest coastline using MousePosition and calculate the distance between the coastline point and the launch site.\n",
      "metadata": {}
    },
    {
      "cell_type": "code",
      "source": "# find coordinate of the closet coastline\n# e.g.,: Lat: 28.56367  Lon: -80.57163\n# distance_coastline = calculate_distance(launch_site_lat, launch_site_lon, coastline_lat, coastline_lon)",
      "metadata": {
        "trusted": true
      },
      "outputs": [],
      "execution_count": 20
    },
    {
      "cell_type": "code",
      "source": "# Create and add a folium.Marker on your selected closest coastline point on the map\n# Display the distance between coastline point and launch site using the icon property \n# for example\n# distance_marker = folium.Marker(\n#    coordinate,\n#    icon=DivIcon(\n#        icon_size=(20,20),\n#        icon_anchor=(0,0),\n#        html='<div style=\"font-size: 12; color:#d35400;\"><b>%s</b></div>' % \"{:10.2f} KM\".format(distance),\n#        )\n#    )",
      "metadata": {
        "trusted": true
      },
      "outputs": [],
      "execution_count": 21
    },
    {
      "cell_type": "markdown",
      "source": "*TODO:* Draw a `PolyLine` between a launch site to the selected coastline point\n",
      "metadata": {}
    },
    {
      "cell_type": "code",
      "source": "# Create a `folium.PolyLine` object using the coastline coordinates and launch site coordinate\n# lines=folium.PolyLine(locations=coordinates, weight=1)\nsite_map.add_child(lines)",
      "metadata": {
        "trusted": true
      },
      "outputs": [
        {
          "ename": "<class 'NameError'>",
          "evalue": "name 'lines' is not defined",
          "traceback": [
            "\u001b[0;31m---------------------------------------------------------------------------\u001b[0m",
            "\u001b[0;31mNameError\u001b[0m                                 Traceback (most recent call last)",
            "Cell \u001b[0;32mIn[22], line 3\u001b[0m\n\u001b[1;32m      1\u001b[0m \u001b[38;5;66;03m# Create a `folium.PolyLine` object using the coastline coordinates and launch site coordinate\u001b[39;00m\n\u001b[1;32m      2\u001b[0m \u001b[38;5;66;03m# lines=folium.PolyLine(locations=coordinates, weight=1)\u001b[39;00m\n\u001b[0;32m----> 3\u001b[0m site_map\u001b[38;5;241m.\u001b[39madd_child(\u001b[43mlines\u001b[49m)\n",
            "\u001b[0;31mNameError\u001b[0m: name 'lines' is not defined"
          ],
          "output_type": "error"
        }
      ],
      "execution_count": 22
    },
    {
      "cell_type": "markdown",
      "source": "Your updated map with distance line should look like the following screenshot:\n",
      "metadata": {}
    },
    {
      "cell_type": "markdown",
      "source": "<center>\n    <img src=\"https://cf-courses-data.s3.us.cloud-object-storage.appdomain.cloud/IBM-DS0321EN-SkillsNetwork/labs/module_3/images/launch_site_marker_distance.png\">\n</center>\n",
      "metadata": {}
    },
    {
      "cell_type": "markdown",
      "source": "*TODO:* Similarly, you can draw a line betwee a launch site to its closest city, railway, highway, etc. You need to use `MousePosition` to find the their coordinates on the map first\n",
      "metadata": {}
    },
    {
      "cell_type": "markdown",
      "source": "A railway map symbol may look like this:\n",
      "metadata": {}
    },
    {
      "cell_type": "markdown",
      "source": "<center>\n    <img src=\"https://cf-courses-data.s3.us.cloud-object-storage.appdomain.cloud/IBM-DS0321EN-SkillsNetwork/labs/module_3/images/railway.png\">\n</center>\n",
      "metadata": {}
    },
    {
      "cell_type": "markdown",
      "source": "A highway map symbol may look like this:\n",
      "metadata": {}
    },
    {
      "cell_type": "markdown",
      "source": "<center>\n    <img src=\"https://cf-courses-data.s3.us.cloud-object-storage.appdomain.cloud/IBM-DS0321EN-SkillsNetwork/labs/module_3/images/highway.png\">\n</center>\n",
      "metadata": {}
    },
    {
      "cell_type": "markdown",
      "source": "A city map symbol may look like this:\n",
      "metadata": {}
    },
    {
      "cell_type": "markdown",
      "source": "<center>\n    <img src=\"https://cf-courses-data.s3.us.cloud-object-storage.appdomain.cloud/IBM-DS0321EN-SkillsNetwork/labs/module_3/images/city.png\">\n</center>\n",
      "metadata": {}
    },
    {
      "cell_type": "code",
      "source": "# Create a marker with distance to a closest city, railway, highway, etc.\n# Draw a line between the marker to the launch site\n",
      "metadata": {
        "trusted": true
      },
      "outputs": [],
      "execution_count": 23
    },
    {
      "cell_type": "code",
      "source": "",
      "metadata": {
        "trusted": true
      },
      "outputs": [],
      "execution_count": null
    },
    {
      "cell_type": "code",
      "source": "",
      "metadata": {
        "trusted": true
      },
      "outputs": [],
      "execution_count": null
    },
    {
      "cell_type": "markdown",
      "source": "After you plot distance lines to the proximities, you can answer the following questions easily:\n\n*   Are launch sites in close proximity to railways?\n*   Are launch sites in close proximity to highways?\n*   Are launch sites in close proximity to coastline?\n*   Do launch sites keep certain distance away from cities?\n\nAlso please try to explain your findings.\n",
      "metadata": {}
    },
    {
      "cell_type": "markdown",
      "source": "# Next Steps:\n\nNow you have discovered many interesting insights related to the launch sites' location using folium, in a very interactive way. Next, you will need to build a dashboard using Ploty Dash on detailed launch records.\n",
      "metadata": {}
    },
    {
      "cell_type": "markdown",
      "source": "## Authors\n",
      "metadata": {}
    },
    {
      "cell_type": "markdown",
      "source": "[Pratiksha Verma](https://www.linkedin.com/in/pratiksha-verma-6487561b1/)\n",
      "metadata": {}
    },
    {
      "cell_type": "markdown",
      "source": "<!--## Change Log--!>\n",
      "metadata": {}
    },
    {
      "cell_type": "markdown",
      "source": "<!--| Date (YYYY-MM-DD) | Version | Changed By      | Change Description      |\n| ----------------- | ------- | -------------   | ----------------------- |\n| 2022-11-09        | 1.0     | Pratiksha Verma | Converted initial version to Jupyterlite|--!>\n",
      "metadata": {}
    },
    {
      "cell_type": "markdown",
      "source": "### <h3 align=\"center\"> IBM Corporation 2022. All rights reserved. <h3/>\n",
      "metadata": {}
    }
  ]
}